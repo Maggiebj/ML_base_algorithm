{
 "cells": [
  {
   "cell_type": "code",
   "execution_count": 1,
   "metadata": {},
   "outputs": [],
   "source": [
    "from numpy import *\n"
   ]
  },
  {
   "cell_type": "code",
   "execution_count": 2,
   "metadata": {},
   "outputs": [],
   "source": [
    "#pca的实现\n",
    "def pca1(X,k):#k is the components you want\n",
    "  #mean of each feature\n",
    "    n_samples, n_features = X.shape\n",
    "    meanVals = mean(X,axis=0)#axis=0 对列求均值\n",
    "  #normalization\n",
    "    norm_X=X-meanVals\n",
    "  #scatter matrix\n",
    "    scatter_matrix=dot(transpose(norm_X),norm_X) #n_feature*n_feature方阵\n",
    "  #Calculate the eigenvectors and eigenvalues\n",
    "    eig_val, eig_vec = linalg.eig(scatter_matrix) #linalg.eig只能计算方阵的特征值特征向量\n",
    "    eig_pairs = [(abs(eig_val[i]), eig_vec[:,i]) for i in range(n_features)]\n",
    "    print(\"eigvalues and egivectors of A.T*A\",eig_pairs)\n",
    "  # sort eig_vec based on eig_val from highest to lowest\n",
    "    eig_pairs.sort(reverse=True)\n",
    "  # select the top k eig_vec\n",
    "    feature=array([ele[1] for ele in eig_pairs[:k]])#k*n_feature\n",
    "    print(\"components，Principal axes in feature space\",feature)\n",
    "  #get new data\n",
    "    data=dot(norm_X,transpose(feature))#n_sample*n_feature dotproduct n_feature*k\n",
    "    return mat(data)#经过pca变换后新维度下的数据值\n"
   ]
  },
  {
   "cell_type": "code",
   "execution_count": 3,
   "metadata": {},
   "outputs": [
    {
     "name": "stdout",
     "output_type": "stream",
     "text": [
      "eigvalues and egivectors of A.T*A [(39.69771560359221, matrix([[0.83849224],\n",
      "        [0.54491354]])), (0.30228439640779037, matrix([[-0.54491354],\n",
      "        [ 0.83849224]]))]\n",
      "components，Principal axes in feature space [[[ 0.83849224]\n",
      "  [ 0.54491354]]\n",
      "\n",
      " [[-0.54491354]\n",
      "  [ 0.83849224]]]\n"
     ]
    },
    {
     "data": {
      "text/plain": [
       "matrix([[-1.38340578, -0.2935787 ],\n",
       "        [-2.22189802,  0.25133484],\n",
       "        [-3.6053038 , -0.04224385],\n",
       "        [ 1.38340578,  0.2935787 ],\n",
       "        [ 2.22189802, -0.25133484],\n",
       "        [ 3.6053038 ,  0.04224385]])"
      ]
     },
     "execution_count": 3,
     "metadata": {},
     "output_type": "execute_result"
    }
   ],
   "source": [
    "X = array([[-1, -1], [-2, -1], [-3, -2], [1, 1], [2, 1], [3, 2]])\n",
    "X = mat(X)\n",
    "data = pca1(X,2)\n",
    "data"
   ]
  },
  {
   "cell_type": "code",
   "execution_count": 4,
   "metadata": {},
   "outputs": [
    {
     "name": "stdout",
     "output_type": "stream",
     "text": [
      "[[-0.83849224 -0.54491354]\n",
      " [ 0.54491354 -0.83849224]]\n",
      "[7.93954312 0.06045688]\n",
      "[0.99244289 0.00755711]\n",
      "[6.30061232 0.54980396]\n"
     ]
    }
   ],
   "source": [
    "from sklearn.decomposition import PCA\n",
    "X = array([[-1, -1], [-2, -1], [-3, -2], [1, 1], [2, 1], [3, 2]])\n",
    "pca = PCA(n_components=2)\n",
    "pca.fit(X)\n",
    "PCA(n_components=2)#Principal axes in feature space\n",
    "print(pca.components_)\n",
    "print(pca.explained_variance_)\n",
    "print(pca.explained_variance_ratio_)\n",
    "print(pca.singular_values_)\n"
   ]
  },
  {
   "cell_type": "code",
   "execution_count": 6,
   "metadata": {},
   "outputs": [
    {
     "data": {
      "text/plain": [
       "<matplotlib.collections.PathCollection at 0x7f8b512ab250>"
      ]
     },
     "execution_count": 6,
     "metadata": {},
     "output_type": "execute_result"
    },
    {
     "data": {
      "image/png": "[encoded data removed]",
      "text/plain": [
       "<Figure size 432x288 with 1 Axes>"
      ]
     },
     "metadata": {
      "needs_background": "light"
     },
     "output_type": "display_data"
    }
   ],
   "source": [
    "import matplotlib\n",
    "import matplotlib.pyplot as plt\n",
    "fig = plt.figure()\n",
    "ax = fig.add_subplot(111)\n",
    "\n",
    "ax.scatter(X[:,0].flatten(),X[:,1].flatten(),marker='^',s=90)\n",
    "ax.scatter(data[:,0].flatten().A[0],data[:,1].flatten().A[0],marker='o',s=50,c='red')"
   ]
  },
  {
   "cell_type": "code",
   "execution_count": 7,
   "metadata": {},
   "outputs": [],
   "source": [
    "eigVals,eigVects = linalg.eig([[-1, -1], [-2, -1]])"
   ]
  },
  {
   "cell_type": "code",
   "execution_count": 8,
   "metadata": {},
   "outputs": [
    {
     "data": {
      "text/plain": [
       "array([ 0.41421356, -2.41421356])"
      ]
     },
     "execution_count": 8,
     "metadata": {},
     "output_type": "execute_result"
    }
   ],
   "source": [
    "eigVals"
   ]
  },
  {
   "cell_type": "code",
   "execution_count": 9,
   "metadata": {},
   "outputs": [
    {
     "data": {
      "text/plain": [
       "array([ 0.57735027, -0.81649658])"
      ]
     },
     "execution_count": 9,
     "metadata": {},
     "output_type": "execute_result"
    }
   ],
   "source": [
    "eigVects[:,0]"
   ]
  },
  {
   "cell_type": "code",
   "execution_count": 10,
   "metadata": {},
   "outputs": [
    {
     "data": {
      "text/plain": [
       "array([[ 0.57735027,  0.57735027],\n",
       "       [-0.81649658,  0.81649658]])"
      ]
     },
     "execution_count": 10,
     "metadata": {},
     "output_type": "execute_result"
    }
   ],
   "source": [
    "eigVects"
   ]
  },
  {
   "cell_type": "markdown",
   "metadata": {},
   "source": [
    "A.T * A与A*A.T特征值相同，是相似矩阵。这两个矩阵A.T * A与A*A.T是对称矩阵所以特征向量正交"
   ]
  },
  {
   "cell_type": "code",
   "execution_count": 11,
   "metadata": {},
   "outputs": [],
   "source": [
    "ev1,ec1 = linalg.eig(eigVects * eigVects.T)"
   ]
  },
  {
   "cell_type": "code",
   "execution_count": 12,
   "metadata": {},
   "outputs": [
    {
     "data": {
      "text/plain": [
       "array([1.11022302e-16, 1.00000000e+00])"
      ]
     },
     "execution_count": 12,
     "metadata": {},
     "output_type": "execute_result"
    }
   ],
   "source": [
    "ev1"
   ]
  },
  {
   "cell_type": "code",
   "execution_count": 13,
   "metadata": {},
   "outputs": [
    {
     "data": {
      "text/plain": [
       "array([[-0.81649658,  0.57735027],\n",
       "       [-0.57735027, -0.81649658]])"
      ]
     },
     "execution_count": 13,
     "metadata": {},
     "output_type": "execute_result"
    }
   ],
   "source": [
    "ec1"
   ]
  },
  {
   "cell_type": "code",
   "execution_count": 14,
   "metadata": {},
   "outputs": [],
   "source": [
    "ev2,ec2 = linalg.eig(eigVects.T * eigVects)"
   ]
  },
  {
   "cell_type": "code",
   "execution_count": 15,
   "metadata": {},
   "outputs": [
    {
     "data": {
      "text/plain": [
       "array([1.11022302e-16, 1.00000000e+00])"
      ]
     },
     "execution_count": 15,
     "metadata": {},
     "output_type": "execute_result"
    }
   ],
   "source": [
    "ev2"
   ]
  },
  {
   "cell_type": "code",
   "execution_count": 16,
   "metadata": {},
   "outputs": [
    {
     "data": {
      "text/plain": [
       "array([[-0.81649658,  0.57735027],\n",
       "       [-0.57735027, -0.81649658]])"
      ]
     },
     "execution_count": 16,
     "metadata": {},
     "output_type": "execute_result"
    }
   ],
   "source": [
    "ec2"
   ]
  },
  {
   "cell_type": "code",
   "execution_count": 17,
   "metadata": {},
   "outputs": [
    {
     "data": {
      "text/plain": [
       "[7, 4, 5]"
      ]
     },
     "execution_count": 17,
     "metadata": {},
     "output_type": "execute_result"
    }
   ],
   "source": [
    "a1=[1,3,5,4,7]\n",
    "a1[:-4:-1]"
   ]
  },
  {
   "cell_type": "code",
   "execution_count": 18,
   "metadata": {},
   "outputs": [
    {
     "data": {
      "text/plain": [
       "array([4, 2, 3])"
      ]
     },
     "execution_count": 18,
     "metadata": {},
     "output_type": "execute_result"
    }
   ],
   "source": [
    "a2=[1,3,5,4,7]\n",
    "b=argsort(a2)\n",
    "b[:-4:-1]\n"
   ]
  },
  {
   "cell_type": "code",
   "execution_count": null,
   "metadata": {},
   "outputs": [],
   "source": []
  }
 ],
 "metadata": {
  "kernelspec": {
   "display_name": "Python 3",
   "language": "python",
   "name": "python3"
  },
  "language_info": {
   "codemirror_mode": {
    "name": "ipython",
    "version": 3
   },
   "file_extension": ".py",
   "mimetype": "text/x-python",
   "name": "python",
   "nbconvert_exporter": "python",
   "pygments_lexer": "ipython3",
   "version": "3.7.4"
  }
 },
 "nbformat": 4,
 "nbformat_minor": 2
}
