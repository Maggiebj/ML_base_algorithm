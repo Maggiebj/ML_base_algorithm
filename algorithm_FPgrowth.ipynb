{
 "cells": [
  {
   "cell_type": "code",
   "execution_count": 1,
   "metadata": {},
   "outputs": [],
   "source": [
    "#FP树的类定义\n",
    "class treeNode:\n",
    "    def __init__(self,nameValue,numOccur,parentNode):\n",
    "        self.name = nameValue\n",
    "        self.count = numOccur\n",
    "        self.nodeLink = None #链接相似的元素项\n",
    "        self.parent = parentNode\n",
    "        self.children = {}\n",
    "    \n",
    "    #对count增加给定值\n",
    "    def inc(self,numOccur):\n",
    "        self.count += numOccur\n",
    "        \n",
    "    #将树以文本形式显示\n",
    "    def disp(self,ind=1):\n",
    "        print (\" \"*ind, self.name, \" \",self.count)\n",
    "        for child in self.children.values():\n",
    "            child.disp(ind+1)\n",
    "            "
   ]
  },
  {
   "cell_type": "code",
   "execution_count": 2,
   "metadata": {},
   "outputs": [],
   "source": [
    "rootNode = treeNode(\"pyramid\",9,None)"
   ]
  },
  {
   "cell_type": "code",
   "execution_count": 3,
   "metadata": {},
   "outputs": [],
   "source": [
    "rootNode.children['eye'] = treeNode('eye',13,None)"
   ]
  },
  {
   "cell_type": "code",
   "execution_count": 4,
   "metadata": {},
   "outputs": [
    {
     "name": "stdout",
     "output_type": "stream",
     "text": [
      "  pyramid   9\n",
      "   eye   13\n"
     ]
    }
   ],
   "source": [
    "rootNode.disp()"
   ]
  },
  {
   "cell_type": "code",
   "execution_count": 60,
   "metadata": {},
   "outputs": [],
   "source": [
    "#FP树构建函数\n",
    "def createTree(dataset, minSup=1):\n",
    "    headerTable={}\n",
    "    for trans in dataset:\n",
    "        for item in trans:\n",
    "            headerTable[item] = headerTable.get(item,0) + dataset[trans]#项和出现次数\n",
    "    for k in list(headerTable.keys()):#字典遍历过程中不能修改字典元素，将其改为list\n",
    "        if headerTable[k] < minSup: #删除不满足最小支持度的元素项\n",
    "            del(headerTable[k])\n",
    "    freqItemSet = set(headerTable.keys())#频繁项集\n",
    "    if len(freqItemSet) == 0: return None,None\n",
    "    for k in headerTable:\n",
    "        headerTable[k] = [headerTable[k],None]#None保存每种元素指向第一个元素项的指针，headerTable是头指针表\n",
    "    #print (headerTable)\n",
    "    retTree = treeNode('Null Set',1, None)\n",
    "    for tranSet, count in dataset.items():\n",
    "        localD = {}\n",
    "        for item in tranSet:\n",
    "            if item in freqItemSet:\n",
    "                localD[item] = headerTable[item][0]#local[item]存储的是全局元素频率\n",
    "                #print (localD[item])\n",
    "        if len(localD) > 0: #根据全局元素频率对每个trans的元素排序\n",
    "            #print (localD)\n",
    "            #print (localD.items())\n",
    "            orderedItems = [v[0] for v in sorted(localD.items(),key=lambda p :p[1],reverse=True)]\n",
    "            #print (orderedItems)\n",
    "            updateTree(orderedItems,retTree,headerTable,count)#对每个trans更新树，这里count是trans的重复次数\n",
    "    return retTree,headerTable\n",
    "\n",
    "def updateTree(items,inTree,headerTable,count):\n",
    "    if items[0] in inTree.children:#测试trans中第一个元素是否作为子节点存在，如存在则更新计数\n",
    "        inTree.children[items[0]].inc(count)\n",
    "    else:\n",
    "        inTree.children[items[0]] = treeNode(items[0],count,inTree)#如trans中第一个元素不存在，创建一个节点\n",
    "        if headerTable[items[0]][1] == None:#头指针更新指向新节点\n",
    "            headerTable[items[0]][1] = inTree.children[items[0]]\n",
    "        else:\n",
    "           \n",
    "            updateHeader(headerTable[items[0]][1],inTree.children[items[0]])\n",
    "    if len(items)>1:#不断调用自身，每次去掉首部的元素\n",
    "        updateTree(items[1::],inTree.children[items[0]],headerTable,count)\n",
    "        \n",
    "def updateHeader(nodeToTest,targetNode):\n",
    "    #print(nodeToTest,targetNode)\n",
    "    #print (nodeToTest.nodeLink)\n",
    "    while(nodeToTest.nodeLink != None):#头指针nodeLink指向一个子树\n",
    "        nodeToTest = nodeToTest.nodeLink\n",
    "    nodeToTest.nodeLink = targetNode\n",
    "    #print (nodeToTest.nodeLink)\n",
    "    \n",
    "    \n",
    "        "
   ]
  },
  {
   "cell_type": "code",
   "execution_count": 61,
   "metadata": {},
   "outputs": [],
   "source": [
    "dataset = [['r','z','h','j','p'],\n",
    "          ['z','y','x','w','v','u','t','s'],\n",
    "          ['z'],\n",
    "          ['r','x','n','o','s'],\n",
    "          ['y','r','x','z','q','t','p'],\n",
    "          ['y','z','x','e','q','s','t','m']]\n",
    "\n",
    "def createInitSet(dataset):\n",
    "    retDict={}\n",
    "    for trans in dataset:\n",
    "        retDict[frozenset(trans)]=1\n",
    "    return retDict\n"
   ]
  },
  {
   "cell_type": "code",
   "execution_count": 62,
   "metadata": {},
   "outputs": [],
   "source": [
    "initSet = createInitSet(dataset)"
   ]
  },
  {
   "cell_type": "code",
   "execution_count": 63,
   "metadata": {},
   "outputs": [
    {
     "data": {
      "text/plain": [
       "{frozenset({'h', 'j', 'p', 'r', 'z'}): 1,\n",
       " frozenset({'s', 't', 'u', 'v', 'w', 'x', 'y', 'z'}): 1,\n",
       " frozenset({'z'}): 1,\n",
       " frozenset({'n', 'o', 'r', 's', 'x'}): 1,\n",
       " frozenset({'p', 'q', 'r', 't', 'x', 'y', 'z'}): 1,\n",
       " frozenset({'e', 'm', 'q', 's', 't', 'x', 'y', 'z'}): 1}"
      ]
     },
     "execution_count": 63,
     "metadata": {},
     "output_type": "execute_result"
    }
   ],
   "source": [
    "initSet"
   ]
  },
  {
   "cell_type": "code",
   "execution_count": 64,
   "metadata": {},
   "outputs": [],
   "source": [
    "myFPtree,myHeaderTab = createTree(initSet,3)"
   ]
  },
  {
   "cell_type": "code",
   "execution_count": 65,
   "metadata": {},
   "outputs": [
    {
     "name": "stdout",
     "output_type": "stream",
     "text": [
      "  Null Set   1\n",
      "   z   5\n",
      "    r   1\n",
      "    x   3\n",
      "     s   2\n",
      "      y   2\n",
      "       t   2\n",
      "     r   1\n",
      "      y   1\n",
      "       t   1\n",
      "   x   1\n",
      "    r   1\n",
      "     s   1\n"
     ]
    }
   ],
   "source": [
    "myFPtree.disp()"
   ]
  },
  {
   "cell_type": "code",
   "execution_count": 66,
   "metadata": {},
   "outputs": [
    {
     "data": {
      "text/plain": [
       "{'r': [3, <__main__.treeNode at 0x7f84995ab790>],\n",
       " 'z': [5, <__main__.treeNode at 0x7f84995ab650>],\n",
       " 'x': [4, <__main__.treeNode at 0x7f84995aba50>],\n",
       " 's': [3, <__main__.treeNode at 0x7f84995ab8d0>],\n",
       " 'y': [3, <__main__.treeNode at 0x7f84995ab850>],\n",
       " 't': [3, <__main__.treeNode at 0x7f84995ab250>]}"
      ]
     },
     "execution_count": 66,
     "metadata": {},
     "output_type": "execute_result"
    }
   ],
   "source": [
    "myHeaderTab"
   ]
  },
  {
   "cell_type": "code",
   "execution_count": 67,
   "metadata": {},
   "outputs": [],
   "source": [
    "#发现以给定元素项结尾的所有路径的函数\n",
    "def ascendTree(leafNode,prefixPath):\n",
    "    if leafNode.parent!=None:\n",
    "        prefixPath.append(leafNode.name)#前缀路径是介于所查找元素项与树根节点之间的所有内容\n",
    "        ascendTree(leafNode.parent,prefixPath)\n",
    "        \n",
    "def findPrefixPath(basePat,treeNode):#条件模式基condPats，是以所查找元素项为结尾的路径集合，每条路径都是一条前缀路径\n",
    "    condPats={}\n",
    "    while treeNode != None:\n",
    "        prefixPath = []\n",
    "        ascendTree(treeNode,prefixPath)\n",
    "        if len(prefixPath)>1:\n",
    "            condPats[frozenset(prefixPath[1:])] = treeNode.count\n",
    "        treeNode = treeNode.nodeLink\n",
    "    return condPats\n",
    "\n",
    "        "
   ]
  },
  {
   "cell_type": "code",
   "execution_count": 68,
   "metadata": {},
   "outputs": [
    {
     "data": {
      "text/plain": [
       "{frozenset({'z'}): 3}"
      ]
     },
     "execution_count": 68,
     "metadata": {},
     "output_type": "execute_result"
    }
   ],
   "source": [
    "findPrefixPath('x',myHeaderTab['x'][1])"
   ]
  },
  {
   "cell_type": "code",
   "execution_count": 69,
   "metadata": {},
   "outputs": [
    {
     "data": {
      "text/plain": [
       "{frozenset({'z'}): 1, frozenset({'x'}): 1, frozenset({'x', 'z'}): 1}"
      ]
     },
     "execution_count": 69,
     "metadata": {},
     "output_type": "execute_result"
    }
   ],
   "source": [
    "findPrefixPath('x',myHeaderTab['r'][1])"
   ]
  },
  {
   "cell_type": "code",
   "execution_count": 72,
   "metadata": {},
   "outputs": [],
   "source": [
    "#递归查找频繁项集的mineTree函数\n",
    "def mineTree(inTree,headerTable,minSup,preFix,freqItemList):\n",
    "    #print (sorted(headerTable.items(),key=lambda p:p[0]))\n",
    "    bigL = [v[0] for v in sorted(headerTable.items(),key=lambda p:p[0])]\n",
    "    for basePat in bigL:\n",
    "        #print (basePat)\n",
    "        newFreqSet = preFix.copy()\n",
    "        newFreqSet.add(basePat)\n",
    "        freqItemList.append(newFreqSet)\n",
    "        condPattBases = findPrefixPath(basePat,headerTable[basePat][1])\n",
    "        myCondTree,myHead = createTree(condPattBases,minSup)\n",
    "        if myHead != None:\n",
    "            mineTree(myCondTree,myHead,minSup,newFreqSet,freqItemList)\n",
    "            print ('conditional tree for:',newFreqSet)\n",
    "            \n",
    "            myCondTree.disp(1)"
   ]
  },
  {
   "cell_type": "code",
   "execution_count": 73,
   "metadata": {},
   "outputs": [
    {
     "name": "stdout",
     "output_type": "stream",
     "text": [
      "conditional tree for: {'s'}\n",
      "  Null Set   1\n",
      "   x   3\n",
      "conditional tree for: {'x', 't'}\n",
      "  Null Set   1\n",
      "   y   3\n",
      "conditional tree for: {'x', 'z', 't'}\n",
      "  Null Set   1\n",
      "   y   3\n",
      "conditional tree for: {'z', 't'}\n",
      "  Null Set   1\n",
      "   y   3\n",
      "    x   3\n",
      "conditional tree for: {'t'}\n",
      "  Null Set   1\n",
      "   y   3\n",
      "    x   3\n",
      "     z   3\n",
      "conditional tree for: {'x'}\n",
      "  Null Set   1\n",
      "   z   3\n",
      "conditional tree for: {'y', 'z'}\n",
      "  Null Set   1\n",
      "   x   3\n",
      "conditional tree for: {'y'}\n",
      "  Null Set   1\n",
      "   x   3\n",
      "    z   3\n"
     ]
    }
   ],
   "source": [
    "freqItems = []\n",
    "mineTree(myFPtree,myHeaderTab,3,set([]),freqItems)"
   ]
  },
  {
   "cell_type": "code",
   "execution_count": 74,
   "metadata": {},
   "outputs": [
    {
     "data": {
      "text/plain": [
       "[{'r'},\n",
       " {'s'},\n",
       " {'s', 'x'},\n",
       " {'t'},\n",
       " {'t', 'x'},\n",
       " {'t', 'x', 'y'},\n",
       " {'t', 'y'},\n",
       " {'t', 'z'},\n",
       " {'t', 'x', 'z'},\n",
       " {'t', 'x', 'y', 'z'},\n",
       " {'t', 'y', 'z'},\n",
       " {'x'},\n",
       " {'x', 'z'},\n",
       " {'y'},\n",
       " {'x', 'y'},\n",
       " {'y', 'z'},\n",
       " {'x', 'y', 'z'},\n",
       " {'z'}]"
      ]
     },
     "execution_count": 74,
     "metadata": {},
     "output_type": "execute_result"
    }
   ],
   "source": [
    "freqItems"
   ]
  },
  {
   "cell_type": "code",
   "execution_count": null,
   "metadata": {},
   "outputs": [],
   "source": []
  }
 ],
 "metadata": {
  "kernelspec": {
   "display_name": "Python 3",
   "language": "python",
   "name": "python3"
  },
  "language_info": {
   "codemirror_mode": {
    "name": "ipython",
    "version": 3
   },
   "file_extension": ".py",
   "mimetype": "text/x-python",
   "name": "python",
   "nbconvert_exporter": "python",
   "pygments_lexer": "ipython3",
   "version": "3.7.4"
  }
 },
 "nbformat": 4,
 "nbformat_minor": 2
}
