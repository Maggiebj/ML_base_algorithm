{
 "cells": [
  {
   "cell_type": "code",
   "execution_count": 1,
   "metadata": {},
   "outputs": [],
   "source": [
    "from numpy import *\n",
    "def loadDataset():\n",
    "    postingList = [['my','dog','has','flea','problems','help','please'],\n",
    "                   ['maybe','not','take','him','to','dog','park','stupid'],\n",
    "                   ['my','dalmation','is','so','cute','I','love','him'],\n",
    "                   ['stop','posting','stupid','worthless','garbage'],\n",
    "                   ['mr','licks','ate','my','steak','how','to','stop','him'],\n",
    "                   ['quit','buying','worthless','dog','food','stupid']\n",
    "    ]\n",
    "    classVec = [0,1,0,1,0,1]\n",
    "    return postingList,classVec\n",
    "\n",
    "def createVocabList(dataset):\n",
    "    vocabSet = set()\n",
    "    for document in dataset:\n",
    "        vocabSet = vocabSet | set(document)\n",
    "    return list(vocabSet)\n",
    "\n",
    "def setOfWords2Vec(vocabList,inputSet):\n",
    "    returnVec = [0]*len(vocabList) \n",
    "    for word in inputSet:\n",
    "        if word in vocabList:\n",
    "            returnVec[vocabList.index(word)]=1\n",
    "        else:\n",
    "            print (\"the word: %s is not in the vocabulary\" % word)\n",
    "    return returnVec\n",
    "\n",
    "    "
   ]
  },
  {
   "cell_type": "code",
   "execution_count": 2,
   "metadata": {},
   "outputs": [
    {
     "data": {
      "text/plain": [
       "['food',\n",
       " 'dog',\n",
       " 'help',\n",
       " 'how',\n",
       " 'my',\n",
       " 'so',\n",
       " 'is',\n",
       " 'worthless',\n",
       " 'love',\n",
       " 'steak',\n",
       " 'licks',\n",
       " 'dalmation',\n",
       " 'garbage',\n",
       " 'posting',\n",
       " 'to',\n",
       " 'ate',\n",
       " 'has',\n",
       " 'take',\n",
       " 'quit',\n",
       " 'maybe',\n",
       " 'flea',\n",
       " 'park',\n",
       " 'stupid',\n",
       " 'cute',\n",
       " 'buying',\n",
       " 'him',\n",
       " 'problems',\n",
       " 'I',\n",
       " 'not',\n",
       " 'please',\n",
       " 'stop',\n",
       " 'mr']"
      ]
     },
     "execution_count": 2,
     "metadata": {},
     "output_type": "execute_result"
    }
   ],
   "source": [
    "listPosts,listClasses = loadDataset()\n",
    "myVocabList = createVocabList(listPosts)\n",
    "myVocabList"
   ]
  },
  {
   "cell_type": "code",
   "execution_count": 4,
   "metadata": {
    "collapsed": true
   },
   "outputs": [
    {
     "data": {
      "text/plain": [
       "[0,\n",
       " 1,\n",
       " 1,\n",
       " 0,\n",
       " 1,\n",
       " 0,\n",
       " 0,\n",
       " 0,\n",
       " 0,\n",
       " 0,\n",
       " 0,\n",
       " 0,\n",
       " 0,\n",
       " 0,\n",
       " 0,\n",
       " 0,\n",
       " 1,\n",
       " 0,\n",
       " 0,\n",
       " 0,\n",
       " 1,\n",
       " 0,\n",
       " 0,\n",
       " 0,\n",
       " 0,\n",
       " 0,\n",
       " 1,\n",
       " 0,\n",
       " 0,\n",
       " 1,\n",
       " 0,\n",
       " 0]"
      ]
     },
     "execution_count": 4,
     "metadata": {},
     "output_type": "execute_result"
    }
   ],
   "source": [
    "setOfWords2Vec(myVocabList,listPosts[0])"
   ]
  },
  {
   "cell_type": "code",
   "execution_count": 5,
   "metadata": {},
   "outputs": [],
   "source": [
    "#朴素贝叶斯分类器 p(c|w)=(p(w|c1)*p(w|c2)*p(w|c3)..)*p(c)/p(w)\n",
    "def trainNB0(trainMatrix,trainCategory):\n",
    "    numTrainDocs = len(trainMatrix)\n",
    "    numWords = len(trainMatrix[0])\n",
    "    pAbusive = sum(trainCategory)/float(numTrainDocs)#先验概率\n",
    "    p0Num = ones(numWords); p1Num = ones(numWords)#将所有的词出现次数初始化为1\n",
    "    p0Denom =2.0; p1Denom =2.0 #将分母初始化为2，词出现概率初始化为0.5，避免p(w|c1)=0的情况\n",
    "    for i in range(numTrainDocs):\n",
    "        if trainCategory[i]==1:\n",
    "            p1Num +=trainMatrix[i]\n",
    "            p1Denom +=sum(trainMatrix[i])\n",
    "        else:\n",
    "            p0Num +=trainMatrix[i]\n",
    "            p0Denom +=sum(trainMatrix[i])\n",
    "    p1Vec = log(p1Num/p1Denom)#许多小数相乘值非常小，故取对数\n",
    "    p0Vec = log(p0Num/p0Denom) #在给定文档类别条件下词汇表中单词的出现概率\n",
    "    return p0Vec,p1Vec,pAbusive\n"
   ]
  },
  {
   "cell_type": "code",
   "execution_count": 6,
   "metadata": {},
   "outputs": [
    {
     "data": {
      "text/plain": [
       "(array([-3.25809654, -2.56494936, -2.56494936, -2.56494936, -1.87180218,\n",
       "        -2.56494936, -2.56494936, -3.25809654, -2.56494936, -2.56494936,\n",
       "        -2.56494936, -2.56494936, -3.25809654, -3.25809654, -2.56494936,\n",
       "        -2.56494936, -2.56494936, -3.25809654, -3.25809654, -3.25809654,\n",
       "        -2.56494936, -3.25809654, -3.25809654, -2.56494936, -3.25809654,\n",
       "        -2.15948425, -2.56494936, -2.56494936, -3.25809654, -2.56494936,\n",
       "        -2.56494936, -2.56494936]),\n",
       " array([-2.35137526, -1.94591015, -3.04452244, -3.04452244, -3.04452244,\n",
       "        -3.04452244, -3.04452244, -1.94591015, -3.04452244, -3.04452244,\n",
       "        -3.04452244, -3.04452244, -2.35137526, -2.35137526, -2.35137526,\n",
       "        -3.04452244, -3.04452244, -2.35137526, -2.35137526, -2.35137526,\n",
       "        -3.04452244, -2.35137526, -1.65822808, -3.04452244, -2.35137526,\n",
       "        -2.35137526, -3.04452244, -3.04452244, -2.35137526, -3.04452244,\n",
       "        -2.35137526, -3.04452244]),\n",
       " 0.5)"
      ]
     },
     "execution_count": 6,
     "metadata": {},
     "output_type": "execute_result"
    }
   ],
   "source": [
    "trainMat=[]\n",
    "for post in listPosts:\n",
    "    trainMat.append(setOfWords2Vec(myVocabList,post))\n",
    "trainNB0(trainMat,listClasses)"
   ]
  },
  {
   "cell_type": "code",
   "execution_count": 7,
   "metadata": {},
   "outputs": [
    {
     "data": {
      "text/plain": [
       "array([-0.69314718,  0.        ,  0.40546511])"
      ]
     },
     "execution_count": 7,
     "metadata": {},
     "output_type": "execute_result"
    }
   ],
   "source": [
    "log(array([1,2,3])/2)"
   ]
  },
  {
   "cell_type": "code",
   "execution_count": 8,
   "metadata": {},
   "outputs": [],
   "source": [
    "def classifyNB(vec2Classify,p0Vec,p1Vec,pClass1):\n",
    "    p1 = sum(vec2Classify*p1Vec) + log(pClass1)#element by element 相乘\n",
    "    p0 = sum(vec2Classify*p0Vec) + log(1.0-pClass1)#与哪个vec更相似，就被分到哪类\n",
    "    if p1>p0:\n",
    "        return 1\n",
    "    else:\n",
    "        return 0\n",
    "    \n",
    "def testingNB():\n",
    "    listPosts,listClasses = loadDataset()\n",
    "    myVocabList = createVocabList(listPosts)\n",
    "    trainMat =[]\n",
    "    for post in listPosts:\n",
    "        trainMat.append(setOfWords2Vec(myVocabList,post))\n",
    "    p0V,p1V,pAb = trainNB0(array(trainMat),array(listClasses))\n",
    "    testEntry = ['love','my','dalmation']\n",
    "    thisDoc = array(setOfWords2Vec(myVocabList,testEntry))\n",
    "    print (testEntry,'classified as:',classifyNB(thisDoc,p0V,p1V,pAb))\n",
    "    testEntry = ['stupid','garbage']\n",
    "    thisDoc = array(setOfWords2Vec(myVocabList,testEntry))\n",
    "    print (testEntry,'classified as:',classifyNB(thisDoc,p0V,p1V,pAb))"
   ]
  },
  {
   "cell_type": "code",
   "execution_count": 9,
   "metadata": {},
   "outputs": [
    {
     "name": "stdout",
     "output_type": "stream",
     "text": [
      "['love', 'my', 'dalmation'] classified as: 0\n",
      "['stupid', 'garbage'] classified as: 1\n"
     ]
    }
   ],
   "source": [
    "testingNB()"
   ]
  },
  {
   "cell_type": "code",
   "execution_count": 12,
   "metadata": {},
   "outputs": [],
   "source": [
    "#朴素贝叶斯词袋模型\n",
    "def bagOfWords2VecMN(vocabList,inputSet):\n",
    "    returnVec = [0]*len(vocabList) \n",
    "    for word in inputSet:\n",
    "        if word in vocabList:\n",
    "            returnVec[vocabList.index(word)]+=1\n",
    "        else:\n",
    "            print (\"the word: %s is not in the vocabulary\" % word)\n",
    "    return returnVec"
   ]
  },
  {
   "cell_type": "code",
   "execution_count": 13,
   "metadata": {},
   "outputs": [
    {
     "data": {
      "text/plain": [
       "7"
      ]
     },
     "execution_count": 13,
     "metadata": {},
     "output_type": "execute_result"
    }
   ],
   "source": [
    "int(random.uniform(0,9))"
   ]
  },
  {
   "cell_type": "code",
   "execution_count": null,
   "metadata": {},
   "outputs": [],
   "source": []
  }
 ],
 "metadata": {
  "kernelspec": {
   "display_name": "Python 3",
   "language": "python",
   "name": "python3"
  },
  "language_info": {
   "codemirror_mode": {
    "name": "ipython",
    "version": 3
   },
   "file_extension": ".py",
   "mimetype": "text/x-python",
   "name": "python",
   "nbconvert_exporter": "python",
   "pygments_lexer": "ipython3",
   "version": "3.7.3"
  }
 },
 "nbformat": 4,
 "nbformat_minor": 2
}
