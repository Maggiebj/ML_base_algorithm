{
 "cells": [
  {
   "cell_type": "markdown",
   "metadata": {},
   "source": [
    "关联分析：\n",
    "计算支持度，包含该项的记录数/总记录数\n",
    "计算可信度，「尿布」-〉「啤酒」可信度=「尿布，啤酒」支持度/「尿布」支持度"
   ]
  },
  {
   "cell_type": "code",
   "execution_count": 83,
   "metadata": {},
   "outputs": [],
   "source": [
    "import copy\n",
    "#辅助函数：生成基础候选项集C1\n",
    "def createC1(dataset):\n",
    "    C1 = [] #C1 是大小为1的所有候选项集的集合\n",
    "    for transaction in dataset:\n",
    "        for item in transaction:\n",
    "            if not [item] in C1:\n",
    "                C1.append([item])\n",
    "    C1.sort()\n",
    "    print (\"C1=\",C1)\n",
    "    return map(frozenset,C1)#不可改变的set元素集合\n",
    "\n",
    "\n",
    "#辅助函数：计算候选项集的每项支持度，去除低于最小支持度的项\n",
    "def scanD(D,Ck,minSupport): #D数据集，候选集Ck，最小支持度minSupport\n",
    "    ssCnt={}\n",
    "    \n",
    "    for tid in D:\n",
    "        #print (tid)\n",
    "        C = copy.deepcopy(Ck)#ck的类型是map，map中的对象只能遍历一次，所以此处用deepcopy来每次获得不同地址的ck，才能遍历多次\n",
    "        for can in C:\n",
    "            #print (can)\n",
    "            if can.issubset(tid):\n",
    "                #print (\"yes\")\n",
    "                if can not in ssCnt: ssCnt[can]=1\n",
    "                else: ssCnt[can]+=1 #候选集的元素在数据集交易中出现的次数\n",
    "    print (ssCnt)               \n",
    "    numItems = float(len(D))\n",
    "    retList = []\n",
    "    supportData = {}\n",
    "    for key in ssCnt:\n",
    "        support = ssCnt[key]/numItems #计算候选集项的支持度，包含该项的记录数/总记录数\n",
    "        if support >= minSupport:\n",
    "            retList.insert(0,key)#大于最小支持度的项存储到retList新的候选项集（在列表首部插入新的项），和supportData新候选项集的支持度\n",
    "            supportData[key] = support\n",
    "    return retList,supportData"
   ]
  },
  {
   "cell_type": "code",
   "execution_count": 84,
   "metadata": {},
   "outputs": [
    {
     "name": "stdout",
     "output_type": "stream",
     "text": [
      "C1= [[1], [2], [3], [4], [5]]\n",
      "<map object at 0x7ffe9d608410>\n"
     ]
    }
   ],
   "source": [
    "dataset = [[1,3,4],[2,3,5],[1,2,3,5],[2,5]]\n",
    "C1 = createC1(dataset)\n",
    "print (C1)"
   ]
  },
  {
   "cell_type": "code",
   "execution_count": 85,
   "metadata": {},
   "outputs": [
    {
     "name": "stdout",
     "output_type": "stream",
     "text": [
      "{frozenset({1}): 2, frozenset({3}): 3, frozenset({4}): 1, frozenset({2}): 3, frozenset({5}): 3}\n"
     ]
    }
   ],
   "source": [
    "\n",
    "L1,supportData1 = scanD(dataset,C1,0.5)"
   ]
  },
  {
   "cell_type": "code",
   "execution_count": 86,
   "metadata": {},
   "outputs": [
    {
     "data": {
      "text/plain": [
       "[frozenset({5}), frozenset({2}), frozenset({3}), frozenset({1})]"
      ]
     },
     "execution_count": 86,
     "metadata": {},
     "output_type": "execute_result"
    }
   ],
   "source": [
    "L1"
   ]
  },
  {
   "cell_type": "code",
   "execution_count": 87,
   "metadata": {},
   "outputs": [
    {
     "data": {
      "text/plain": [
       "{frozenset({1}): 0.5,\n",
       " frozenset({3}): 0.75,\n",
       " frozenset({2}): 0.75,\n",
       " frozenset({5}): 0.75}"
      ]
     },
     "execution_count": 87,
     "metadata": {},
     "output_type": "execute_result"
    }
   ],
   "source": [
    "supportData1"
   ]
  },
  {
   "cell_type": "code",
   "execution_count": 88,
   "metadata": {},
   "outputs": [],
   "source": [
    "#Aprioir算法\n",
    "def aprioriGen(Lk,k):#生成Ck（组合后的频繁项集）,Lk为输入频繁项集，k是组合生成的频繁项集每一项的元素个数\n",
    "    retList= []\n",
    "    lenLk= len(Lk)\n",
    "    for i in range(lenLk):\n",
    "        for j in range(i+1,lenLk):\n",
    "            L1= list(Lk[i])[:k-2]; L2 = list(Lk[j])[:k-2]\n",
    "            L1.sort();L2.sort()\n",
    "            if L1==L2:\n",
    "                retList.append(Lk[i]|Lk[j])#将「0，1」「0，2」合并成「0，1，2」 ｜取或\n",
    "    return retList\n",
    "\n",
    "def apriori(dataset, minSupport=0.5):\n",
    "    C1 = createC1(dataset)\n",
    "    #D = map(set,dataset)\n",
    "    L1,supportData = scanD(dataset,C1,minSupport)#从频繁集C1（单元素）开始\n",
    "    L = [L1]\n",
    "    k = 2#k至少为2\n",
    "    while (len(L[k-2])>0): \n",
    "        Ck = aprioirGen(L[k-2],k) #将频繁集每次向前扩展一个元素，计算扩展后的频繁集的项支持度\n",
    "        Lk,supK = scanD(dataset,Ck,minSupport)\n",
    "        supportData.update(supK)\n",
    "        L.append(Lk)\n",
    "        k+=1\n",
    "    return L, supportData"
   ]
  },
  {
   "cell_type": "code",
   "execution_count": 89,
   "metadata": {},
   "outputs": [
    {
     "name": "stdout",
     "output_type": "stream",
     "text": [
      "C1= [[1], [2], [3], [4], [5]]\n",
      "{frozenset({1}): 2, frozenset({3}): 3, frozenset({4}): 1, frozenset({2}): 3, frozenset({5}): 3}\n",
      "{frozenset({1, 3}): 2, frozenset({2, 5}): 3, frozenset({3, 5}): 2, frozenset({2, 3}): 2, frozenset({1, 5}): 1, frozenset({1, 2}): 1}\n",
      "{frozenset({2, 3, 5}): 2}\n",
      "{}\n"
     ]
    },
    {
     "data": {
      "text/plain": [
       "[[frozenset({5}), frozenset({2}), frozenset({3}), frozenset({1})],\n",
       " [frozenset({2, 3}), frozenset({3, 5}), frozenset({2, 5}), frozenset({1, 3})],\n",
       " [frozenset({2, 3, 5})],\n",
       " []]"
      ]
     },
     "execution_count": 89,
     "metadata": {},
     "output_type": "execute_result"
    }
   ],
   "source": [
    "L,suppData = apriori(dataset)\n",
    "L"
   ]
  },
  {
   "cell_type": "code",
   "execution_count": 90,
   "metadata": {},
   "outputs": [
    {
     "data": {
      "text/plain": [
       "{frozenset({1}): 0.5,\n",
       " frozenset({3}): 0.75,\n",
       " frozenset({2}): 0.75,\n",
       " frozenset({5}): 0.75,\n",
       " frozenset({1, 3}): 0.5,\n",
       " frozenset({2, 5}): 0.75,\n",
       " frozenset({3, 5}): 0.5,\n",
       " frozenset({2, 3}): 0.5,\n",
       " frozenset({2, 3, 5}): 0.5}"
      ]
     },
     "execution_count": 90,
     "metadata": {},
     "output_type": "execute_result"
    }
   ],
   "source": [
    "suppData"
   ]
  },
  {
   "cell_type": "code",
   "execution_count": 114,
   "metadata": {},
   "outputs": [],
   "source": [
    "#关联规则生成函数\n",
    "def generateRules(L,supportData,minConf = 0.7):#频繁项集L，支持度字典supportData，最下可信度minConf\n",
    "    bigRuleList =[]\n",
    "    for i in range(1,len(L)):\n",
    "        \n",
    "        for freqset in L[i]:#对于频繁项集中的每一项\n",
    "            H1 = [frozenset([item]) for item in freqset]\n",
    "            if(i>1):#L2每项才有3个元素\n",
    "                rulesFromConseq(freqset,H1,supportData,bigRuleList,minConf)\n",
    "            else:#L1每项只有两个元素,i=1开始\n",
    "                #print (\"eeee\",H1)\n",
    "                calcConf(freqset,H1,supportData,bigRuleList,minConf)\n",
    "    return bigRuleList\n",
    "\n",
    "#计算可信度，「尿布」-〉「啤酒」可信度=「尿布，啤酒」支持度/「尿布」支持度\n",
    "def calcConf(freqset,H,supportData,br1,minConf=0.7):#H是可以出现在规则右部的元素列表\n",
    "    prunedH = []\n",
    "    for conseq in H:#遍历H的所有项集来计算他们的可信度\n",
    "        conf= supportData[freqset]/supportData[freqset-conseq]\n",
    "        if conf>=minConf:\n",
    "            print (freqset-conseq,'--->',conseq,'conf:',conf)\n",
    "            br1.append((freqset-conseq,conseq,conf))\n",
    "            prunedH.append(conseq)\n",
    "            \n",
    "    return prunedH#可信度大于最小可信的的项\n",
    "\n",
    "#扩展规则右部元素的大小，计算可信度\n",
    "def rulesFromConseq(freqset,H,supportData,br1,minConf=0.7):\n",
    "    m = len(H[0])#规则右部的元素大小m\n",
    "    if(len(freqset)>(m+1)):#频繁项是否大到可以移除大小为m的子集\n",
    "        print (m,H)\n",
    "        Hmp1 = aprioriGen(H,m+1)#将规则右部元素扩展一个元素\n",
    "        print (\"eeeee\",Hmp1)\n",
    "        Hmp1 = calcConf(freqset,Hmp1,supportData,br1,minConf)#计算规则右部元素的可信度\n",
    "        if (len(Hmp1)>1):#有多个后续H（prunedH）\n",
    "            \n",
    "            #print (\"0ffff\",Hmp1)\n",
    "            rulesFromConseq(freqset,Hmp1,supportData,br1,minConf)\n",
    "    \n",
    "            "
   ]
  },
  {
   "cell_type": "code",
   "execution_count": 115,
   "metadata": {},
   "outputs": [
    {
     "name": "stdout",
     "output_type": "stream",
     "text": [
      "C1= [[1], [2], [3], [4], [5]]\n",
      "{frozenset({1}): 2, frozenset({3}): 3, frozenset({4}): 1, frozenset({2}): 3, frozenset({5}): 3}\n",
      "{frozenset({1, 3}): 2, frozenset({2, 5}): 3, frozenset({3, 5}): 2, frozenset({2, 3}): 2, frozenset({1, 5}): 1, frozenset({1, 2}): 1}\n",
      "{frozenset({2, 3, 5}): 2}\n",
      "{}\n",
      "frozenset({5}) ---> frozenset({2}) conf: 1.0\n",
      "frozenset({2}) ---> frozenset({5}) conf: 1.0\n",
      "frozenset({1}) ---> frozenset({3}) conf: 1.0\n",
      "1 [frozenset({2}), frozenset({3}), frozenset({5})]\n",
      "eeeee [frozenset({2, 3}), frozenset({2, 5}), frozenset({3, 5})]\n"
     ]
    }
   ],
   "source": [
    "\n",
    "L,suppData = apriori(dataset)\n",
    "rules = generateRules(L,suppData,minConf=0.7)"
   ]
  },
  {
   "cell_type": "code",
   "execution_count": 116,
   "metadata": {},
   "outputs": [
    {
     "name": "stdout",
     "output_type": "stream",
     "text": [
      "C1= [[1], [2], [3], [4], [5]]\n",
      "{frozenset({1}): 2, frozenset({3}): 3, frozenset({4}): 1, frozenset({2}): 3, frozenset({5}): 3}\n",
      "{frozenset({1, 3}): 2, frozenset({2, 5}): 3, frozenset({3, 5}): 2, frozenset({2, 3}): 2, frozenset({1, 5}): 1, frozenset({1, 2}): 1}\n",
      "{frozenset({2, 3, 5}): 2}\n",
      "{}\n",
      "frozenset({3}) ---> frozenset({2}) conf: 0.6666666666666666\n",
      "frozenset({2}) ---> frozenset({3}) conf: 0.6666666666666666\n",
      "frozenset({5}) ---> frozenset({3}) conf: 0.6666666666666666\n",
      "frozenset({3}) ---> frozenset({5}) conf: 0.6666666666666666\n",
      "frozenset({5}) ---> frozenset({2}) conf: 1.0\n",
      "frozenset({2}) ---> frozenset({5}) conf: 1.0\n",
      "frozenset({3}) ---> frozenset({1}) conf: 0.6666666666666666\n",
      "frozenset({1}) ---> frozenset({3}) conf: 1.0\n",
      "1 [frozenset({2}), frozenset({3}), frozenset({5})]\n",
      "eeeee [frozenset({2, 3}), frozenset({2, 5}), frozenset({3, 5})]\n",
      "frozenset({5}) ---> frozenset({2, 3}) conf: 0.6666666666666666\n",
      "frozenset({3}) ---> frozenset({2, 5}) conf: 0.6666666666666666\n",
      "frozenset({2}) ---> frozenset({3, 5}) conf: 0.6666666666666666\n"
     ]
    }
   ],
   "source": [
    "L,suppData = apriori(dataset)\n",
    "rules = generateRules(L,suppData,minConf=0.5)"
   ]
  },
  {
   "cell_type": "code",
   "execution_count": 117,
   "metadata": {},
   "outputs": [
    {
     "data": {
      "text/plain": [
       "[(frozenset({3}), frozenset({2}), 0.6666666666666666),\n",
       " (frozenset({2}), frozenset({3}), 0.6666666666666666),\n",
       " (frozenset({5}), frozenset({3}), 0.6666666666666666),\n",
       " (frozenset({3}), frozenset({5}), 0.6666666666666666),\n",
       " (frozenset({5}), frozenset({2}), 1.0),\n",
       " (frozenset({2}), frozenset({5}), 1.0),\n",
       " (frozenset({3}), frozenset({1}), 0.6666666666666666),\n",
       " (frozenset({1}), frozenset({3}), 1.0),\n",
       " (frozenset({5}), frozenset({2, 3}), 0.6666666666666666),\n",
       " (frozenset({3}), frozenset({2, 5}), 0.6666666666666666),\n",
       " (frozenset({2}), frozenset({3, 5}), 0.6666666666666666)]"
      ]
     },
     "execution_count": 117,
     "metadata": {},
     "output_type": "execute_result"
    }
   ],
   "source": [
    "rules"
   ]
  },
  {
   "cell_type": "code",
   "execution_count": null,
   "metadata": {},
   "outputs": [],
   "source": []
  },
  {
   "cell_type": "code",
   "execution_count": null,
   "metadata": {},
   "outputs": [],
   "source": []
  }
 ],
 "metadata": {
  "kernelspec": {
   "display_name": "Python 3",
   "language": "python",
   "name": "python3"
  },
  "language_info": {
   "codemirror_mode": {
    "name": "ipython",
    "version": 3
   },
   "file_extension": ".py",
   "mimetype": "text/x-python",
   "name": "python",
   "nbconvert_exporter": "python",
   "pygments_lexer": "ipython3",
   "version": "3.7.4"
  }
 },
 "nbformat": 4,
 "nbformat_minor": 2
}
