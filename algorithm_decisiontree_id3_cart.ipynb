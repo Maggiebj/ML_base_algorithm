{
 "cells": [
  {
   "cell_type": "code",
   "execution_count": 13,
   "metadata": {},
   "outputs": [
    {
     "name": "stdout",
     "output_type": "stream",
     "text": [
      "[1, 1, 'yes']\n",
      "{'yes': 1}\n",
      "[1, 1, 'yes']\n",
      "{'yes': 2}\n",
      "[1, 0, 'no']\n",
      "{'yes': 2, 'no': 1}\n",
      "[0, 1, 'no']\n",
      "{'yes': 2, 'no': 2}\n",
      "[0, 1, 'no']\n",
      "{'yes': 2, 'no': 3}\n"
     ]
    },
    {
     "data": {
      "text/plain": [
       "0.9709505944546686"
      ]
     },
     "execution_count": 13,
     "metadata": {},
     "output_type": "execute_result"
    }
   ],
   "source": [
    "#计算数据集的香农熵\n",
    "from math import log\n",
    "def calcShannonEnt(dataset):\n",
    "    numEntries = len(dataset)\n",
    "    labelCounts = {}\n",
    "    for featVec in dataset:\n",
    "        print (featVec)\n",
    "        currentLabel = featVec[-1]\n",
    "        if currentLabel not in labelCounts.keys():\n",
    "            labelCounts[currentLabel]=0\n",
    "        labelCounts[currentLabel] +=1\n",
    "        print (labelCounts)\n",
    "    shannonEnt =0.0\n",
    "    for key in labelCounts:\n",
    "        prob = float(labelCounts[key])/numEntries\n",
    "        shannonEnt -= prob*log(prob,2)\n",
    "    return shannonEnt\n",
    "\n",
    "dataset = [[1,1,'yes'],\n",
    "           [1,1,'yes'],\n",
    "           [1,0,'no'],\n",
    "           [0,1,'no'],\n",
    "          [0,1,'no']]\n",
    "labels = ['no surfacing','flippers']\n",
    "calcShannonEnt(dataset)\n"
   ]
  },
  {
   "cell_type": "code",
   "execution_count": 14,
   "metadata": {},
   "outputs": [
    {
     "name": "stdout",
     "output_type": "stream",
     "text": [
      "[1, 1, 'maybe']\n",
      "{'maybe': 1}\n",
      "[1, 1, 'yes']\n",
      "{'maybe': 1, 'yes': 1}\n",
      "[1, 0, 'no']\n",
      "{'maybe': 1, 'yes': 1, 'no': 1}\n",
      "[0, 1, 'no']\n",
      "{'maybe': 1, 'yes': 1, 'no': 2}\n",
      "[0, 1, 'no']\n",
      "{'maybe': 1, 'yes': 1, 'no': 3}\n"
     ]
    },
    {
     "data": {
      "text/plain": [
       "1.3709505944546687"
      ]
     },
     "execution_count": 14,
     "metadata": {},
     "output_type": "execute_result"
    }
   ],
   "source": [
    "#往数据里增加新的分类，熵变大\n",
    "dataset1 = dataset.copy()\n",
    "dataset1[0][-1] = 'maybe'\n",
    "dataset1\n",
    "calcShannonEnt(dataset1)"
   ]
  },
  {
   "cell_type": "markdown",
   "metadata": {},
   "source": [
    "ID3的做法是每次选取当前最佳的特征来分割数据，并按照该特征的所有可能取值来切分。ID3算法的问题是不能直接处理连续型特征，只有将连续型特征转换成离散型，才能在ID3算法中使用。"
   ]
  },
  {
   "cell_type": "code",
   "execution_count": 15,
   "metadata": {},
   "outputs": [],
   "source": [
    "#按照给定特征划分数据集\n",
    "def splitDataset(dataset,axis,value):\n",
    "    retDataset = []\n",
    "    for featVec in dataset:\n",
    "        if featVec[axis] == value:\n",
    "            reducedFeatVec = featVec[:axis]\n",
    "            reducedFeatVec.extend(featVec[axis+1:])\n",
    "            retDataset.append(reducedFeatVec)\n",
    "    return retDataset\n",
    "        "
   ]
  },
  {
   "cell_type": "code",
   "execution_count": 16,
   "metadata": {},
   "outputs": [],
   "source": [
    "#选择最好的数据集划分方式,找到最好的feature\n",
    "def chooseBestFeatureToSplit(dataset):\n",
    "    numFeatures = len(dataset[0])-1\n",
    "    baseEntropy = calcShannonEnt(dataset)\n",
    "    bestInfoGain = 0.0; bestFeature = -1\n",
    "    for i  in range(numFeatures):\n",
    "        featList = [example[i] for example in dataset]\n",
    "        uniqueVals = set(featList)\n",
    "        newEntropy = 0.0\n",
    "        for value in uniqueVals:\n",
    "            subDataset = splitDataset(dataset,i,value)\n",
    "            prob = len(subDataset)/float(len(dataset))\n",
    "            newEntropy +=prob* calcShannonEnt(subDataset) #计算每种划分方式的信息熵\n",
    "        infoGain = baseEntropy - newEntropy\n",
    "        if (infoGain>bestInfoGain):\n",
    "            bestInfoGain = infoGain\n",
    "            bestFeature = i\n",
    "    return bestFeature"
   ]
  },
  {
   "cell_type": "code",
   "execution_count": 17,
   "metadata": {},
   "outputs": [
    {
     "name": "stdout",
     "output_type": "stream",
     "text": [
      "[1, 1, 'maybe']\n",
      "{'maybe': 1}\n",
      "[1, 1, 'yes']\n",
      "{'maybe': 1, 'yes': 1}\n",
      "[1, 0, 'no']\n",
      "{'maybe': 1, 'yes': 1, 'no': 1}\n",
      "[0, 1, 'no']\n",
      "{'maybe': 1, 'yes': 1, 'no': 2}\n",
      "[0, 1, 'no']\n",
      "{'maybe': 1, 'yes': 1, 'no': 3}\n",
      "[1, 'no']\n",
      "{'no': 1}\n",
      "[1, 'no']\n",
      "{'no': 2}\n",
      "[1, 'maybe']\n",
      "{'maybe': 1}\n",
      "[1, 'yes']\n",
      "{'maybe': 1, 'yes': 1}\n",
      "[0, 'no']\n",
      "{'maybe': 1, 'yes': 1, 'no': 1}\n",
      "[1, 'no']\n",
      "{'no': 1}\n",
      "[1, 'maybe']\n",
      "{'maybe': 1}\n",
      "[1, 'yes']\n",
      "{'maybe': 1, 'yes': 1}\n",
      "[0, 'no']\n",
      "{'maybe': 1, 'yes': 1, 'no': 1}\n",
      "[0, 'no']\n",
      "{'maybe': 1, 'yes': 1, 'no': 2}\n"
     ]
    },
    {
     "data": {
      "text/plain": [
       "0"
      ]
     },
     "execution_count": 17,
     "metadata": {},
     "output_type": "execute_result"
    }
   ],
   "source": [
    "chooseBestFeatureToSplit(dataset)"
   ]
  },
  {
   "cell_type": "code",
   "execution_count": 20,
   "metadata": {},
   "outputs": [
    {
     "name": "stdout",
     "output_type": "stream",
     "text": [
      "[1, 1, 'maybe']\n",
      "{'maybe': 1}\n",
      "[1, 1, 'yes']\n",
      "{'maybe': 1, 'yes': 1}\n",
      "[1, 0, 'no']\n",
      "{'maybe': 1, 'yes': 1, 'no': 1}\n",
      "[0, 1, 'no']\n",
      "{'maybe': 1, 'yes': 1, 'no': 2}\n",
      "[0, 1, 'no']\n",
      "{'maybe': 1, 'yes': 1, 'no': 3}\n",
      "[1, 'no']\n",
      "{'no': 1}\n",
      "[1, 'no']\n",
      "{'no': 2}\n",
      "[1, 'maybe']\n",
      "{'maybe': 1}\n",
      "[1, 'yes']\n",
      "{'maybe': 1, 'yes': 1}\n",
      "[0, 'no']\n",
      "{'maybe': 1, 'yes': 1, 'no': 1}\n",
      "[1, 'no']\n",
      "{'no': 1}\n",
      "[1, 'maybe']\n",
      "{'maybe': 1}\n",
      "[1, 'yes']\n",
      "{'maybe': 1, 'yes': 1}\n",
      "[0, 'no']\n",
      "{'maybe': 1, 'yes': 1, 'no': 1}\n",
      "[0, 'no']\n",
      "{'maybe': 1, 'yes': 1, 'no': 2}\n",
      "[1, 'maybe']\n",
      "{'maybe': 1}\n",
      "[1, 'yes']\n",
      "{'maybe': 1, 'yes': 1}\n",
      "[0, 'no']\n",
      "{'maybe': 1, 'yes': 1, 'no': 1}\n",
      "['no']\n",
      "{'no': 1}\n",
      "['maybe']\n",
      "{'maybe': 1}\n",
      "['yes']\n",
      "{'maybe': 1, 'yes': 1}\n"
     ]
    },
    {
     "data": {
      "text/plain": [
       "{'no surfacing': {0: 'no', 1: {'flippers': {0: 'no', 1: 'maybe'}}}}"
      ]
     },
     "execution_count": 20,
     "metadata": {},
     "output_type": "execute_result"
    }
   ],
   "source": [
    "#多数表决决定叶子节点的分类\n",
    "def majorityCnt(classList):\n",
    "    classCount = {}\n",
    "    for vote in classList:\n",
    "        if vote not in classCount.keys():classCount[vote] = 0\n",
    "        classCount[vote] += 1\n",
    "    sortedClassCount = sorted(classCount.items(),key=operator.itemgetter(1),reverse=True)\n",
    "    return sortedClassCount[0][0]\n",
    "\n",
    "\n",
    "import operator\n",
    "#创建树的函数代码_ID3:\n",
    "def createTree(dataset,labels):\n",
    "    classList = [example[-1] for example in dataset]#最后一列是类别\n",
    "    if classList.count(classList[0]) == len(classList):#类别完全相同停止划分\n",
    "        return classList[0]\n",
    "    if len(dataset[0]) == 1: #遍历完所有特征仍然不能讲数据集划分成仅包含唯一类别的分组，用投票决定\n",
    "        return majorityCnt(classList)\n",
    "    bestFeat = chooseBestFeatureToSplit(dataset)\n",
    "    \n",
    "    bestFeatLabel = labels[bestFeat]\n",
    "    myTree = {bestFeatLabel:{}}\n",
    "    del (labels[bestFeat])\n",
    "    featValues = [example[bestFeat] for example in dataset]\n",
    "    uniqueVals = set(featValues)\n",
    "    for value in uniqueVals:\n",
    "        subLabels = labels[:]\n",
    "        myTree[bestFeatLabel][value] = createTree(splitDataset(dataset,bestFeat,value),subLabels)\n",
    "    return myTree\n",
    "createTree(dataset,labels.copy())"
   ]
  },
  {
   "cell_type": "code",
   "execution_count": 23,
   "metadata": {},
   "outputs": [
    {
     "name": "stdout",
     "output_type": "stream",
     "text": [
      "[1, 1, 'yes']\n",
      "{'yes': 1}\n",
      "[1, 1, 'yes']\n",
      "{'yes': 2}\n",
      "[1, 0, 'no']\n",
      "{'yes': 2, 'no': 1}\n",
      "[0, 1, 'no']\n",
      "{'yes': 2, 'no': 2}\n",
      "[0, 1, 'no']\n",
      "{'yes': 2, 'no': 3}\n",
      "[1, 'no']\n",
      "{'no': 1}\n",
      "[1, 'no']\n",
      "{'no': 2}\n",
      "[1, 'yes']\n",
      "{'yes': 1}\n",
      "[1, 'yes']\n",
      "{'yes': 2}\n",
      "[0, 'no']\n",
      "{'yes': 2, 'no': 1}\n",
      "[1, 'no']\n",
      "{'no': 1}\n",
      "[1, 'yes']\n",
      "{'yes': 1}\n",
      "[1, 'yes']\n",
      "{'yes': 2}\n",
      "[0, 'no']\n",
      "{'yes': 2, 'no': 1}\n",
      "[0, 'no']\n",
      "{'yes': 2, 'no': 2}\n",
      "[1, 'yes']\n",
      "{'yes': 1}\n",
      "[1, 'yes']\n",
      "{'yes': 2}\n",
      "[0, 'no']\n",
      "{'yes': 2, 'no': 1}\n",
      "['no']\n",
      "{'no': 1}\n",
      "['yes']\n",
      "{'yes': 1}\n",
      "['yes']\n",
      "{'yes': 2}\n"
     ]
    },
    {
     "data": {
      "text/plain": [
       "'yes'"
      ]
     },
     "execution_count": 23,
     "metadata": {},
     "output_type": "execute_result"
    }
   ],
   "source": [
    "#使用决策树的分类函数\n",
    "def classify(inputTree,featLabels,testVec):\n",
    "    firstStr = list(inputTree.keys())[0]\n",
    "    secondDict = inputTree[firstStr]\n",
    "    featIndex = featLabels.index(firstStr)#将标签字符串转换为索引\n",
    "    for key in secondDict.keys():\n",
    "        if testVec[featIndex] == key:\n",
    "            if type(secondDict[key]).__name__=='dict':\n",
    "                classLabel = classify(secondDict[key],featLabels,testVec)\n",
    "            else: classLabel = secondDict[key]\n",
    "    return classLabel\n",
    "myTree = createTree(dataset,labels.copy())\n",
    "classify(myTree,labels,[1,1])"
   ]
  },
  {
   "cell_type": "markdown",
   "metadata": {},
   "source": [
    "CART（分类回归树）既可以用于分类还可以用于回归。构建两种树，回归树和模型树。回归树有树剪枝技术，回归树与分类树的思路类似，叶节点的数据类型不是离散型而是连续型。模型树的做法是可以在每个叶节点上都构建出一个线性模型。"
   ]
  },
  {
   "cell_type": "code",
   "execution_count": 76,
   "metadata": {},
   "outputs": [],
   "source": [
    "def binSplitDataset(dataset,feature,value):\n",
    "    mat0 = dataset[nonzero(dataset[:,feature]>value)[0],:] #左子树，右子树\n",
    "    mat1 = dataset[nonzero(dataset[:,feature]<=value)[0],:]\n",
    "    return mat0,mat1\n",
    "from numpy import *\n",
    "\n",
    "def regLeaf(dataset):\n",
    "    return mean(dataset[:,-1]) #在回归树中该模型就是目标变量的均值\n",
    "\n",
    "def regErr(dataset):\n",
    "    return var(dataset[:,-1])* shape(dataset)[0]#目标变量的总方差：方差*样本个数\n",
    "\n",
    "def chooseBestSplit(dataset,leafType=regLeaf,errType=regErr,ops=(1,4)):#找到数据的最佳二元切分方式\n",
    "    tolS = ops[0];tolN = ops[1] #tolS容许的误差下降值，tolN切分的最少样本数\n",
    "    if len(set(dataset[:,-1].T.astype(int16).tolist()))==1:#如果所有值相等则退出\n",
    "        return None,leafType(dataset)\n",
    "    m,n = shape(dataset)\n",
    "    S = errType(dataset)\n",
    "    bestS = inf; bestIndex = 0; bestValue = 0\n",
    "    for featIndex in range(n-1):\n",
    "        for splitVal in set(dataset[:,featIndex]):\n",
    "            mat0,mat1 = binSplitDataset(dataset,featIndex,splitVal)\n",
    "            if (shape(mat0)[0]<tolN) or (shape(mat1)[0]<tolN) :continue\n",
    "            newS = errType(mat0) + errType(mat1)\n",
    "            if newS <bestS:\n",
    "                bestIndex = featIndex\n",
    "                bestValue = splitVal\n",
    "                bestS = newS\n",
    "    if (S-bestS)<tolS: #如果误差减少不大则退出\n",
    "        return None,leafType(dataset)\n",
    "    mat0,mat1 = binSplitDataset(dataset,bestIndex,bestValue)\n",
    "    if (shape(mat0)[0]<tolN) or (shape(mat1)[0]<tolN):#如果切分出的数据集很小则退出\n",
    "        return None,leafType(dataset)\n",
    "    return bestIndex,bestValue\n",
    "\n",
    "def createTree(dataset,leafType=regLeaf,errType=regErr,ops=(1,4)):#leafType给出建立叶节点的函数（回归树，这里是一个常数，模型树，这里是一个线性方程），errTYpe代表误差计算函数，ops包含树构建所需其他参数的元组\n",
    "    feat,val = chooseBestSplit(dataset,leafType,errType,ops)\n",
    "    if feat == None: return val\n",
    "    retTree = {}\n",
    "    retTree['spInd'] = feat\n",
    "    retTree['spVal'] = val\n",
    "    lSet, rSet = binSplitDataset(dataset,feat,val)\n",
    "    retTree['left'] = createTree(lSet,leafType,errType,ops)\n",
    "    retTree['right'] = createTree(rSet,leafType,errType,ops)\n",
    "    return retTree"
   ]
  },
  {
   "cell_type": "code",
   "execution_count": 25,
   "metadata": {},
   "outputs": [
    {
     "data": {
      "text/plain": [
       "matrix([[1., 0., 0., 0.],\n",
       "        [0., 1., 0., 0.],\n",
       "        [0., 0., 1., 0.],\n",
       "        [0., 0., 0., 1.]])"
      ]
     },
     "execution_count": 25,
     "metadata": {},
     "output_type": "execute_result"
    }
   ],
   "source": [
    "testMat = mat(eye(4))\n",
    "testMat"
   ]
  },
  {
   "cell_type": "code",
   "execution_count": 29,
   "metadata": {},
   "outputs": [
    {
     "name": "stdout",
     "output_type": "stream",
     "text": [
      "mat0 [[0. 1. 0. 0.]]\n",
      "mat1 [[1. 0. 0. 0.]\n",
      " [0. 0. 1. 0.]\n",
      " [0. 0. 0. 1.]]\n"
     ]
    }
   ],
   "source": [
    "mat0,mat1 = binSplitDataset(testMat,1,0.5)\n",
    "print ('mat0',mat0)\n",
    "print ('mat1',mat1)"
   ]
  },
  {
   "cell_type": "code",
   "execution_count": 35,
   "metadata": {},
   "outputs": [],
   "source": [
    "from sklearn.datasets import load_iris\n",
    "iris = load_iris()"
   ]
  },
  {
   "cell_type": "code",
   "execution_count": 54,
   "metadata": {},
   "outputs": [
    {
     "data": {
      "text/plain": [
       "array([0, 0, 0, 0, 0, 0, 0, 0, 0, 0, 0, 0, 0, 0, 0, 0, 0, 0, 0, 0, 0, 0,\n",
       "       0, 0, 0, 0, 0, 0, 0, 0, 0, 0, 0, 0, 0, 0, 0, 0, 0, 0, 0, 0, 0, 0,\n",
       "       0, 0, 0, 0, 0, 0, 1, 1, 1, 1, 1, 1, 1, 1, 1, 1, 1, 1, 1, 1, 1, 1,\n",
       "       1, 1, 1, 1, 1, 1, 1, 1, 1, 1, 1, 1, 1, 1, 1, 1, 1, 1, 1, 1, 1, 1,\n",
       "       1, 1, 1, 1, 1, 1, 1, 1, 1, 1, 1, 1, 2, 2, 2, 2, 2, 2, 2, 2, 2, 2,\n",
       "       2, 2, 2, 2, 2, 2, 2, 2, 2, 2, 2, 2, 2, 2, 2, 2, 2, 2, 2, 2, 2, 2,\n",
       "       2, 2, 2, 2, 2, 2, 2, 2, 2, 2, 2, 2, 2, 2, 2, 2, 2, 2])"
      ]
     },
     "execution_count": 54,
     "metadata": {},
     "output_type": "execute_result"
    }
   ],
   "source": [
    "#irisdata = mat((shape(iris['data'])[0],shape(iris['data'])[1]+1))\n",
    "iris['target']"
   ]
  },
  {
   "cell_type": "code",
   "execution_count": 78,
   "metadata": {},
   "outputs": [
    {
     "data": {
      "text/plain": [
       "dtype('float64')"
      ]
     },
     "execution_count": 78,
     "metadata": {},
     "output_type": "execute_result"
    }
   ],
   "source": [
    "\n",
    "irisdata = c_[iris['data'],iris['target']] #np.c_[a,b]给数组增加一列\n",
    "irisdata.dtype"
   ]
  },
  {
   "cell_type": "code",
   "execution_count": 77,
   "metadata": {},
   "outputs": [
    {
     "data": {
      "text/plain": [
       "{'spInd': 2,\n",
       " 'spVal': 1.9,\n",
       " 'left': {'spInd': 3,\n",
       "  'spVal': 1.7,\n",
       "  'left': 1.9782608695652173,\n",
       "  'right': {'spInd': 2,\n",
       "   'spVal': 4.9,\n",
       "   'left': 1.6666666666666667,\n",
       "   'right': 1.0208333333333333}},\n",
       " 'right': 0.0}"
      ]
     },
     "execution_count": 77,
     "metadata": {},
     "output_type": "execute_result"
    }
   ],
   "source": [
    "createTree(irisdata)"
   ]
  },
  {
   "cell_type": "code",
   "execution_count": 165,
   "metadata": {},
   "outputs": [],
   "source": [
    "#用树回归进行预测\n",
    "def regTreeEval(model,inDat):\n",
    "    return float(model)\n",
    "\n",
    "def modelTreeEval(model,inData):\n",
    "    n = shape(inData)[1]\n",
    "    X = mat(ones((1,n+1)))\n",
    "    \n",
    "    X[:,1:n+1] = inData\n",
    "    #print (X[0,:5])\n",
    "    return float(X[0,:5]*model)\n",
    "\n",
    "\n",
    "def treeForeCast(tree, inData,modelEval=regTreeEval):\n",
    "    if not type(tree).__name__=='dict': return modelEval(tree,inData)\n",
    "    \n",
    "    if inData[0,tree['spInd']]>tree['spVal']:\n",
    "        if type(tree['left']).__name__=='dict':\n",
    "            return treeForeCast(tree['left'],inData,modelEval)\n",
    "        else: \n",
    "            return modelEval(tree['left'],inData)\n",
    "    else:\n",
    "        if type(tree['right']).__name__=='dict':\n",
    "            return treeForeCast(tree['right'],inData,modelEval)\n",
    "        else:\n",
    "            return modelEval(tree['right'],inData)\n",
    "        \n",
    "def createForeCast(tree,testData,modelEval=regTreeEval):\n",
    "    m = len(testData)\n",
    "    yHat = mat(zeros((m,1)))\n",
    "    for i in range(m):\n",
    "        yHat[i,0] = treeForeCast(tree,mat(testData[i]),modelEval)\n",
    "    return yHat"
   ]
  },
  {
   "cell_type": "code",
   "execution_count": 173,
   "metadata": {},
   "outputs": [],
   "source": [
    "#回归树剪枝函数\n",
    "def isTree(obj):\n",
    "    return (type(obj).__name__=='dict')\n",
    "def getMean(tree):\n",
    "    if isTree(tree['right']):tree['right']=getMean(tree['right'])#返回树的平均值，塌陷处理\n",
    "    if isTree(tree['left']):tree['left']=getMean(tree['left'])\n",
    "    return (tree['left']+tree['right'])/2.0\n",
    "\n",
    "def prune(tree,testData):\n",
    "    if shape(testData)[0] == 0: return getMean(tree) #没有测试数据则对树进行塌陷处理\n",
    "    if (isTree(tree['right']) or isTree(tree['left'])):\n",
    "        lSet,rSet = binSplitDataset(testData,tree['spInd'],tree['spVal'])\n",
    "    if isTree(tree['left']): tree['left']=prune(tree['left'],lSet)\n",
    "    if isTree(tree['right']): tree['right']=prune(tree['right'],rSet)\n",
    "    if not isTree(tree['left']) and not isTree(tree['right']):\n",
    "        lSet,rSet = binSplitDataset(testData,tree['spInd'],tree['spVal'])\n",
    "        errorNoMerge = sum(power(lSet[:,-1]-tree['left'],2)) + sum(power(rSet[:,-1]-tree['right'],2))\n",
    "        treeMean = (tree['left']+tree['right'])/2.0\n",
    "        errorMerge = sum(power(testData[:,-1]-treeMean,2))\n",
    "        if errorMerge<errorNoMerge:\n",
    "            print (\"merging\")\n",
    "            return treeMean #如果两个分支已经不再是子树，就可以进行合并，具体的做法是对合并前后的误差进行比较，如果合并后的误差比不合并的\n",
    "                            #误差小就进行合并\n",
    "        else: return tree\n",
    "    else: return tree\n",
    "    "
   ]
  },
  {
   "cell_type": "code",
   "execution_count": 174,
   "metadata": {},
   "outputs": [
    {
     "data": {
      "text/plain": [
       "0.9834085576729287"
      ]
     },
     "execution_count": 174,
     "metadata": {},
     "output_type": "execute_result"
    }
   ],
   "source": [
    "#使用回归树计算的结果\n",
    "myTree = createTree(irisdata)\n",
    "yHat_reg = createForeCast(myTree,irisdata)\n",
    "#print (yHat_reg)\n",
    "corrcoef(yHat_reg.A,irisdata[:,-1],rowvar=0)[0,1]"
   ]
  },
  {
   "cell_type": "code",
   "execution_count": 175,
   "metadata": {},
   "outputs": [
    {
     "data": {
      "text/plain": [
       "{'spInd': 2,\n",
       " 'spVal': 1.9,\n",
       " 'left': {'spInd': 3,\n",
       "  'spVal': 1.7,\n",
       "  'left': 1.9782608695652173,\n",
       "  'right': {'spInd': 2,\n",
       "   'spVal': 4.9,\n",
       "   'left': 1.6666666666666667,\n",
       "   'right': 1.0208333333333333}},\n",
       " 'right': 0.0}"
      ]
     },
     "execution_count": 175,
     "metadata": {},
     "output_type": "execute_result"
    }
   ],
   "source": [
    "myTree"
   ]
  },
  {
   "cell_type": "code",
   "execution_count": 176,
   "metadata": {},
   "outputs": [
    {
     "data": {
      "text/plain": [
       "{'spInd': 2,\n",
       " 'spVal': 1.9,\n",
       " 'left': {'spInd': 3,\n",
       "  'spVal': 1.7,\n",
       "  'left': 1.9782608695652173,\n",
       "  'right': {'spInd': 2,\n",
       "   'spVal': 4.9,\n",
       "   'left': 1.6666666666666667,\n",
       "   'right': 1.0208333333333333}},\n",
       " 'right': 0.0}"
      ]
     },
     "execution_count": 176,
     "metadata": {},
     "output_type": "execute_result"
    }
   ],
   "source": [
    "prune(myTree,irisdata)"
   ]
  },
  {
   "cell_type": "code",
   "execution_count": 167,
   "metadata": {},
   "outputs": [],
   "source": [
    "def linearSolve(dataset):\n",
    "    m,n = shape(dataset)\n",
    "    X = mat(ones((m,n))); Y = mat(ones((m,1)))#常数项X0=1\n",
    "    X[:,1:n] = dataset[:,0:n-1]; Y = dataset[:,-1].T; Y = Y.reshape((m,1))\n",
    "    xTx = X.T*X\n",
    "    #print (Y.shape)\n",
    "    if linalg.det(xTx)==0.0:\n",
    "        raise NameError(\"This matrix is singular,cannot do inverse,trying increasing the second value of ops\")\n",
    "    ws = xTx.I*(X.T*Y)\n",
    "    return ws,X,Y\n",
    "\n",
    "def modelLeaf(dataset):\n",
    "    ws,X,Y = linearSolve(dataset)\n",
    "    return ws\n",
    "\n",
    "def modelErr(dataset):\n",
    "    ws,X,Y = linearSolve(dataset)\n",
    "    yHat = X*ws\n",
    "    return sum(power(Y-yHat,2))\n"
   ]
  },
  {
   "cell_type": "code",
   "execution_count": 177,
   "metadata": {},
   "outputs": [
    {
     "data": {
      "text/plain": [
       "0.9891787551366312"
      ]
     },
     "execution_count": 177,
     "metadata": {},
     "output_type": "execute_result"
    }
   ],
   "source": [
    "#使用模型树计算的结果\n",
    "myTree_reg = createTree(irisdata,modelLeaf,modelErr) \n",
    "yHat_reg = createForeCast(myTree_reg,irisdata,modelTreeEval)\n",
    "#print (yHat_reg)\n",
    "corrcoef(yHat_reg.A,irisdata[:,-1],rowvar=0)[0,1]"
   ]
  },
  {
   "cell_type": "code",
   "execution_count": 178,
   "metadata": {},
   "outputs": [
    {
     "data": {
      "text/plain": [
       "{'spInd': 3, 'spVal': 1.7, 'left': matrix([[ 1.70003713],\n",
       "         [ 0.03047756],\n",
       "         [-0.12990224],\n",
       "         [ 0.03044713],\n",
       "         [ 0.14394673]]), 'right': {'spInd': 2,\n",
       "  'spVal': 4.9,\n",
       "  'left': matrix([[ 8.01596885],\n",
       "          [ 1.41418804],\n",
       "          [-0.73748028],\n",
       "          [-0.64873196],\n",
       "          [-6.42347923]]),\n",
       "  'right': matrix([[ 0.59469563],\n",
       "          [-0.11148697],\n",
       "          [-0.1209064 ],\n",
       "          [ 0.18957339],\n",
       "          [ 0.46032827]])}}"
      ]
     },
     "execution_count": 178,
     "metadata": {},
     "output_type": "execute_result"
    }
   ],
   "source": [
    "prune(myTree_reg,irisdata)"
   ]
  },
  {
   "cell_type": "code",
   "execution_count": null,
   "metadata": {},
   "outputs": [],
   "source": []
  }
 ],
 "metadata": {
  "kernelspec": {
   "display_name": "Python 3",
   "language": "python",
   "name": "python3"
  },
  "language_info": {
   "codemirror_mode": {
    "name": "ipython",
    "version": 3
   },
   "file_extension": ".py",
   "mimetype": "text/x-python",
   "name": "python",
   "nbconvert_exporter": "python",
   "pygments_lexer": "ipython3",
   "version": "3.7.4"
  }
 },
 "nbformat": 4,
 "nbformat_minor": 2
}
