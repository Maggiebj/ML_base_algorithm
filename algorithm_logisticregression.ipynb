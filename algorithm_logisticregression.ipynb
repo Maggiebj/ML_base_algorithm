{
 "cells": [
  {
   "cell_type": "code",
   "execution_count": 37,
   "metadata": {},
   "outputs": [],
   "source": [
    "from numpy import *\n",
    "#logistic回归梯度上升优化算法，用梯度上升的方法求函数（熵）的最大值，而梯度下降的方法求函数的最小值\n",
    "def sigmoid(inX):\n",
    "    return 1.0/(1+exp(-inX))\n",
    "\n",
    "def gradAscent(dataMatIn,classLabels):\n",
    "    dataMatrix = mat(dataMatIn)\n",
    "    labelMat = mat(classLabels).T\n",
    "    m,n = shape(dataMatrix)\n",
    "    alpha = 0.001 #learning rate\n",
    "    maxCycles =500\n",
    "    weights = ones((n,1))\n",
    "    for k in range(maxCycles):\n",
    "        h = sigmoid(dataMatrix*weights) #在每次更新回归系数时都需要遍历整个数据集\n",
    "        #print (dataMatrix*weights)\n",
    "        error = (labelMat-h)\n",
    "        weights = weights + alpha* dataMatrix.T* error #熵sum(y*log(yhat)+(1-y)log(1-yhat))对weights的系数求偏导=error*xj\n",
    "    return weights"
   ]
  },
  {
   "cell_type": "code",
   "execution_count": 46,
   "metadata": {},
   "outputs": [],
   "source": [
    "#随机梯度上升算法,由于可以在样本到来时对分类器进行增量更新，所以是一种在线学习算法\n",
    "def stocGradAscent0(dataMatrix,classLabels):\n",
    "    m,n = shape(dataMatrix)\n",
    "    alpha = 0.01\n",
    "    weights = ones(n)\n",
    "    for i in range(m):\n",
    "        h = sigmoid(sum(dataMatrix[i]*weights))\n",
    "        error = classLabels[i]-h\n",
    "        weights = weights + alpha * error * dataMatrix[i]#每次更新系数时只用一个样本点\n",
    "    return weights"
   ]
  },
  {
   "cell_type": "code",
   "execution_count": 54,
   "metadata": {},
   "outputs": [],
   "source": [
    "#改进的随机梯度上升算法\n",
    "def stocGradAscent1(dataMatrix,classLabels,numIter=150):\n",
    "    m,n = shape(dataMatrix)\n",
    "    \n",
    "    weights = ones(n)\n",
    "    for j in range(numIter):\n",
    "        dataIndex = list(range(m))\n",
    "        for i in range(m):\n",
    "            alpha = 4/(1.0+j+i)+0.01 #alpha每次迭代需要调整，alpha会不断减小但不会减小到0\n",
    "            randIndex =int(random.uniform(0,len(dataIndex))) #随机选取样本点更新weight\n",
    "            h = sigmoid(sum(dataMatrix[randIndex]*weights))\n",
    "            error = classLabels[randIndex]-h\n",
    "            weights = weights + alpha * error * dataMatrix[randIndex]#每次更新系数时只用一个样本点\n",
    "            del(dataIndex[randIndex])\n",
    "    return weights"
   ]
  },
  {
   "cell_type": "code",
   "execution_count": 25,
   "metadata": {},
   "outputs": [],
   "source": [
    "def classifyVector(inX,weights):\n",
    "    prob = sigmoid(sum(inX*weights))\n",
    "    if prob >0.5 :return 1\n",
    "    else: return 0"
   ]
  },
  {
   "cell_type": "code",
   "execution_count": 43,
   "metadata": {},
   "outputs": [
    {
     "data": {
      "text/plain": [
       "0"
      ]
     },
     "execution_count": 43,
     "metadata": {},
     "output_type": "execute_result"
    }
   ],
   "source": [
    "X = array([[0, 0], [0, 1], [2, 2]])\n",
    "y = [0, 1, 2]\n",
    "weights = gradAscent(X,y)\n",
    "classifyVector([0,0],weights)"
   ]
  },
  {
   "cell_type": "code",
   "execution_count": 49,
   "metadata": {},
   "outputs": [
    {
     "data": {
      "text/plain": [
       "0"
      ]
     },
     "execution_count": 49,
     "metadata": {},
     "output_type": "execute_result"
    }
   ],
   "source": [
    "weights = stocGradAscent0(X,y)\n",
    "classifyVector([0,0],weights)"
   ]
  },
  {
   "cell_type": "code",
   "execution_count": 56,
   "metadata": {},
   "outputs": [
    {
     "data": {
      "text/plain": [
       "1"
      ]
     },
     "execution_count": 56,
     "metadata": {},
     "output_type": "execute_result"
    }
   ],
   "source": [
    "weights = stocGradAscent1(X,y,numIter=100)\n",
    "classifyVector([0,1],weights)"
   ]
  },
  {
   "cell_type": "code",
   "execution_count": null,
   "metadata": {},
   "outputs": [],
   "source": []
  }
 ],
 "metadata": {
  "kernelspec": {
   "display_name": "Python 3",
   "language": "python",
   "name": "python3"
  },
  "language_info": {
   "codemirror_mode": {
    "name": "ipython",
    "version": 3
   },
   "file_extension": ".py",
   "mimetype": "text/x-python",
   "name": "python",
   "nbconvert_exporter": "python",
   "pygments_lexer": "ipython3",
   "version": "3.7.4"
  }
 },
 "nbformat": 4,
 "nbformat_minor": 2
}
