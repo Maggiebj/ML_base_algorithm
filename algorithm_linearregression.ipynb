{
 "cells": [
  {
   "cell_type": "code",
   "execution_count": 226,
   "metadata": {},
   "outputs": [
    {
     "name": "stdout",
     "output_type": "stream",
     "text": [
      "[[7.69]]\n"
     ]
    }
   ],
   "source": [
    "from numpy import *\n",
    "datMat=matrix([[0],  #x0=1 对应w0*x0=w0常数项\n",
    "              [1.2],\n",
    "              [2.5]]              \n",
    "              )\n",
    "y = mat([0,1,2])\n",
    "print (datMat.T*datMat)\n",
    "#print (datMat.T*y.T)\n",
    "#print (linalg.det(mtm))"
   ]
  },
  {
   "cell_type": "code",
   "execution_count": 232,
   "metadata": {},
   "outputs": [
    {
     "name": "stdout",
     "output_type": "stream",
     "text": [
      "[[0.01385928]\n",
      " [0.79957356]]\n",
      "[[0.01385928]\n",
      " [0.97334755]\n",
      " [2.01279318]]\n"
     ]
    }
   ],
   "source": [
    "#标准回归函数\n",
    "\n",
    "def standRegres(xArr,yArr):\n",
    "    xMat = mat(xArr); yMat = mat(yArr).T    \n",
    "    xTx = xMat.T*xMat\n",
    "    if linalg.det(xTx)==0.0:\n",
    "        print (\"This matrix is singular,cannot do inverse\")\n",
    "        return\n",
    "    ws1 = xTx.I * (xMat.T*yMat)    #w = (X.T*X).I*X.T*Y\n",
    "    #ws2 = linalg.solve(xTx,xMat.T*yMat)    #numpy.linalg.solve(a,b)返回ax=b的解\n",
    "    return ws1\n",
    "xMat = datMat; yMat=y\n",
    "xMat1 = mat(ones((shape(xMat)[0],shape(xMat)[1]+1)))\n",
    "xMat1[:,1:] = xMat\n",
    "ws = standRegres(xMat1,yMat)\n",
    "print (ws)\n",
    "print (xMat1*ws)"
   ]
  },
  {
   "cell_type": "code",
   "execution_count": 235,
   "metadata": {},
   "outputs": [
    {
     "name": "stdout",
     "output_type": "stream",
     "text": [
      "[0.  1.2 2.5]\n"
     ]
    },
    {
     "data": {
      "image/png": "[encoded data removed]",
      "text/plain": [
       "<Figure size 432x288 with 1 Axes>"
      ]
     },
     "metadata": {
      "needs_background": "light"
     },
     "output_type": "display_data"
    }
   ],
   "source": [
    "import matplotlib.pyplot as plt\n",
    "fig = plt.figure()\n",
    "ax = fig.add_subplot(111)\n",
    "xMat = datMat; yMat=y\n",
    "print (xMat[:,0].flatten().A[0])\n",
    "ax.scatter(xMat[:,0].flatten().A[0],yMat.T[:,0].flatten().A[0])\n",
    "xCopy = xMat.copy()\n",
    "xCopy.sort(0)\n",
    "yHat = xMat1*ws\n",
    "ax.plot(xCopy[:,0],yHat)\n",
    "plt.show()"
   ]
  },
  {
   "cell_type": "code",
   "execution_count": 5,
   "metadata": {},
   "outputs": [
    {
     "data": {
      "text/plain": [
       "matrix([[1., 0., 0.],\n",
       "        [0., 1., 0.],\n",
       "        [0., 0., 1.]])"
      ]
     },
     "execution_count": 5,
     "metadata": {},
     "output_type": "execute_result"
    }
   ],
   "source": [
    "mat(eye((3)))"
   ]
  },
  {
   "cell_type": "code",
   "execution_count": 236,
   "metadata": {},
   "outputs": [
    {
     "name": "stdout",
     "output_type": "stream",
     "text": [
      "[[1]]\n",
      "[[0.97396454]]\n",
      "[[0.99485002]]\n",
      "[[0.97101166]]\n",
      "[0.         0.97396454 2.00750476]\n"
     ]
    }
   ],
   "source": [
    "#局部加权线性回归函数，局部的点\n",
    "def lwlr(testPoint,xArr,yArr,k=1.0):\n",
    "    xMat = mat(xArr); yMat = mat(yArr).T\n",
    "    m = shape(xMat)[0]\n",
    "    weights = mat(eye((m))) #对角矩阵，为每个样本点初始化了一个权重1\n",
    "    for j in range(m):\n",
    "        diffMat = testPoint - xMat[j,:]\n",
    "        weights[j,j] = exp(diffMat*diffMat.T/(-2.0*k**2)) #weights(i,i)=exp(abs(x(i)-x)/(-2k^2)),x与xi越近，\n",
    "                                                          #weights(i,i)会越大，k越小，xi附近越少的点被用于训练模型\n",
    "    xTx = xMat.T * (weights * xMat) #随着样本点与待预测点距离的递增，权重将以指数级衰减，k控制衰减的速度\n",
    "    if linalg.det(xTx)==0.0:\n",
    "        print (\"This matrix is singular,cannot do inverse\")\n",
    "        return\n",
    "    ws = xTx.I * (xMat.T * (weights * yMat)) #w=(X.T*Weights*X).I*X.T*weights*Y\n",
    "    return testPoint * ws #对于每个testpoint，ws都是不一样的\n",
    "\n",
    "def lwlrTest(testArr, xArr, yArr,k=1.0):\n",
    "    m = shape(testArr)[0]\n",
    "    yHat = zeros(m)\n",
    "    for i in range(m):\n",
    "        yHat[i] = lwlr(testArr[i],xArr,yArr,k)\n",
    "    return yHat\n",
    "\n",
    "xMat = datMat; yMat=y\n",
    "print (yMat.T[1])\n",
    "print (lwlr(xMat[1],xMat,yMat,k=1))\n",
    "print (lwlr(xMat[1],xMat,yMat,k=0.5))\n",
    "print (lwlr(xMat[1],xMat,yMat,k=1.3))\n",
    "print (lwlrTest(xMat,xMat,yMat,k=1))"
   ]
  },
  {
   "cell_type": "code",
   "execution_count": 244,
   "metadata": {},
   "outputs": [],
   "source": [
    "srtInd = xMat[:,0].argsort(0)#按列排序axis=0\n"
   ]
  },
  {
   "cell_type": "code",
   "execution_count": 245,
   "metadata": {},
   "outputs": [],
   "source": [
    "xSort = xMat[srtInd][:,0]\n",
    "yHat = lwlrTest(xMat,xMat,yMat,k=0.5) #k取值过小容易过拟合，考虑了太多噪声"
   ]
  },
  {
   "cell_type": "code",
   "execution_count": 246,
   "metadata": {},
   "outputs": [
    {
     "data": {
      "image/png": "[encoded data removed]",
      "text/plain": [
       "<Figure size 432x288 with 1 Axes>"
      ]
     },
     "metadata": {
      "needs_background": "light"
     },
     "output_type": "display_data"
    }
   ],
   "source": [
    "fig = plt.figure()\n",
    "ax = fig.add_subplot(111)\n",
    "ax.plot(xSort[:,0],yHat[srtInd])#回归曲线\n",
    "ax.scatter(xMat[:,0].flatten().A[0],yMat.T.flatten().A[0],s=10,c='red')#原始样本点\n",
    "plt.show()"
   ]
  },
  {
   "cell_type": "code",
   "execution_count": 254,
   "metadata": {},
   "outputs": [
    {
     "name": "stdout",
     "output_type": "stream",
     "text": [
      "[0.         0.99485002 2.00064862] 2.694297019667871e-05\n",
      "[0.         0.97396454 2.00750476] 0.0007341666058161336\n",
      "[[0.01385928]\n",
      " [0.97334755]\n",
      " [2.01279318]] 0.0010660980810234552\n"
     ]
    }
   ],
   "source": [
    "\n",
    "xMat = datMat; yMat=y\n",
    "yHat05 = lwlrTest(xMat,xMat,yMat,k=0.5) \n",
    "yHat1 = lwlrTest(xMat,xMat,yMat,k=1) \n",
    "yHatS = xMat1*standRegres(xMat1,yMat)\n",
    "print (yHat05,((yMat.A-yHat05)**2).sum())\n",
    "print (yHat1,((yMat.A-yHat1)**2).sum())\n",
    "print (yHatS,((yMat.A-yHatS.A.T)**2).sum())"
   ]
  },
  {
   "cell_type": "code",
   "execution_count": 272,
   "metadata": {},
   "outputs": [],
   "source": [
    "#岭回归 Ridge Regression，用于求解n>m特征比样本点多的情形，岭回归需要先做标准化standardize\n",
    "def ridgeRegres(xMat,yMat,lam=0.2):\n",
    "    xTx = xMat.T*xMat;yMat = yMat.T\n",
    "    denom = xTx + eye(shape(xMat)[1])*lam #w = (xTx +lam*I).I * x.T*Y\n",
    "    if linalg.det(denom)==0.0:\n",
    "        print (\"This matrix is singular,cannot do inverse\")\n",
    "        return\n",
    "    ws = denom.I*(xMat.T*yMat)\n",
    "    return ws\n",
    "\n",
    "def ridgeTest(xArr,yArr):\n",
    "    xMat = mat(xArr); yMat = mat(yArr)\n",
    "    yMean = mean(yMat,1) #axis=1对行求均值\n",
    "    yMat = yMat - yMean\n",
    "    xMeans = mean(xMat,0)\n",
    "    xVar = var(xMat,0)  #axis=0对列求var\n",
    "    xMat = (xMat - xMeans)/xVar #normalize\n",
    "    #print (xMat)\n",
    "    numTestPts = 100\n",
    "    wMat = zeros((numTestPts,shape(xMat)[1]))\n",
    "    for i in range(numTestPts):\n",
    "        ws = ridgeRegres(xMat,yMat,exp(i-10))\n",
    "        #print (ws)\n",
    "        wMat[i,:] = ws.T\n",
    "    return wMat"
   ]
  },
  {
   "cell_type": "code",
   "execution_count": 273,
   "metadata": {},
   "outputs": [
    {
     "data": {
      "text/plain": [
       "matrix([[0.78580482]])"
      ]
     },
     "execution_count": 273,
     "metadata": {},
     "output_type": "execute_result"
    }
   ],
   "source": [
    "\n",
    "xMat = datMat; yMat=y\n",
    "ridgeRegres(xMat,yMat) #没有常数项的系数，截距"
   ]
  },
  {
   "cell_type": "code",
   "execution_count": 274,
   "metadata": {},
   "outputs": [
    {
     "data": {
      "image/png": "[encoded data removed]",
      "text/plain": [
       "<Figure size 432x288 with 1 Axes>"
      ]
     },
     "metadata": {
      "needs_background": "light"
     },
     "output_type": "display_data"
    }
   ],
   "source": [
    "ridgeWeights = ridgeTest(xMat,yMat)\n",
    "wMat = ridgeTest(xMat,yMat)\n",
    "fig = plt.figure()\n",
    "ax = fig.add_subplot(111)\n",
    "ax.plot(ridgeWeights)\n",
    "plt.show() #在最左边可以得到系数的原始值（与线性回归一致,此时lam~0），在右边，系数全部缩减为0，在中间某部分可取得最好的预测效果"
   ]
  },
  {
   "cell_type": "code",
   "execution_count": 275,
   "metadata": {},
   "outputs": [
    {
     "name": "stdout",
     "output_type": "stream",
     "text": [
      "[[8.33320190e-01]\n",
      " [8.33297607e-01]\n",
      " [8.33236226e-01]\n",
      " [8.33069421e-01]\n",
      " [8.32616337e-01]\n",
      " [8.31387212e-01]\n",
      " [8.28064369e-01]\n",
      " [8.19164735e-01]\n",
      " [7.95912337e-01]\n",
      " [7.38899048e-01]\n",
      " [6.18471688e-01]\n",
      " [4.28591972e-01]\n",
      " [2.33622186e-01]\n",
      " [1.04455692e-01]\n",
      " [4.17338545e-02]\n",
      " [1.58549470e-02]\n",
      " [5.90371113e-03]\n",
      " [2.18162376e-03]\n",
      " [8.03904879e-04]\n",
      " [2.95920529e-04]\n",
      " [1.08887521e-04]\n",
      " [4.00607892e-05]\n",
      " [1.47379886e-05]\n",
      " [5.42186362e-06]\n",
      " [1.99460036e-06]\n",
      " [7.33773577e-07]\n",
      " [2.69940364e-07]\n",
      " [9.93055305e-08]\n",
      " [3.65324658e-08]\n",
      " [1.34395435e-08]\n",
      " [4.94413179e-09]\n",
      " [1.81884445e-09]\n",
      " [6.69115480e-10]\n",
      " [2.46153829e-10]\n",
      " [9.05549331e-11]\n",
      " [3.33132982e-11]\n",
      " [1.22552775e-11]\n",
      " [4.50846465e-12]\n",
      " [1.65857145e-12]\n",
      " [6.10154340e-13]\n",
      " [2.24463238e-13]\n",
      " [8.25754104e-14]\n",
      " [3.03777958e-14]\n",
      " [1.11753666e-14]\n",
      " [4.11118760e-15]\n",
      " [1.51242140e-15]\n",
      " [5.56388739e-16]\n",
      " [2.04683978e-16]\n",
      " [7.52990275e-17]\n",
      " [2.77009642e-17]\n",
      " [1.01906152e-17]\n",
      " [3.74891783e-18]\n",
      " [1.37914980e-18]\n",
      " [5.07360857e-19]\n",
      " [1.86647628e-19]\n",
      " [6.86638252e-20]\n",
      " [2.52600097e-20]\n",
      " [9.29263824e-21]\n",
      " [3.41857056e-21]\n",
      " [1.25762183e-21]\n",
      " [4.62653215e-22]\n",
      " [1.70200606e-22]\n",
      " [6.26133039e-23]\n",
      " [2.30341473e-23]\n",
      " [8.47378922e-24]\n",
      " [3.11733284e-24]\n",
      " [1.14680266e-24]\n",
      " [4.21885123e-25]\n",
      " [1.55202863e-25]\n",
      " [5.70959426e-26]\n",
      " [2.10044235e-26]\n",
      " [7.72709557e-27]\n",
      " [2.84263960e-27]\n",
      " [1.04574867e-27]\n",
      " [3.84709435e-28]\n",
      " [1.41526692e-28]\n",
      " [5.20647604e-29]\n",
      " [1.91535550e-29]\n",
      " [7.04619910e-30]\n",
      " [2.59215179e-30]\n",
      " [9.53599350e-31]\n",
      " [3.50809596e-31]\n",
      " [1.29055638e-31]\n",
      " [4.74769160e-32]\n",
      " [1.74657813e-32]\n",
      " [6.42530188e-33]\n",
      " [2.36373647e-33]\n",
      " [8.69570050e-34]\n",
      " [3.19896944e-34]\n",
      " [1.17683509e-34]\n",
      " [4.32933435e-35]\n",
      " [1.59267310e-35]\n",
      " [5.85911691e-36]\n",
      " [2.15544865e-36]\n",
      " [7.92945246e-37]\n",
      " [2.91708254e-37]\n",
      " [1.07313469e-37]\n",
      " [3.94784192e-38]\n",
      " [1.45232988e-38]\n",
      " [5.34282304e-39]]\n"
     ]
    }
   ],
   "source": [
    "print (ridgeWeights)"
   ]
  },
  {
   "cell_type": "code",
   "execution_count": 276,
   "metadata": {},
   "outputs": [
    {
     "name": "stdout",
     "output_type": "stream",
     "text": [
      "0.00451229757710981\n"
     ]
    }
   ],
   "source": [
    "yHat_ridge = xMat*ridgeRegres(xMat,yMat)[-1]\n",
    "print (((yMat.A-yHat_ridge.A.T)**2).sum())"
   ]
  },
  {
   "cell_type": "code",
   "execution_count": 259,
   "metadata": {},
   "outputs": [],
   "source": [
    "#前向逐步回归\n",
    "def stageWise(xArr,yArr,eps=0.01,numIt=100):#eps每次迭代需要调整的步长，numIt迭代次数\n",
    "    xMat = mat(xArr);yMat = mat(yArr)\n",
    "    yMean = mean(yMat,1)\n",
    "    yMat = yMat - yMean\n",
    "    xMeans = mean(xMat,0)\n",
    "    xVar = var(xMat,0)  #axis=0对列求var\n",
    "    xMat = (xMat - xMeans)/xVar #standardize\n",
    "    m,n = shape(xMat)\n",
    "    returnMat = zeros((numIt,n))\n",
    "    ws = zeros((n,1));wsTest = ws.copy();wsMax = ws.copy()\n",
    "    lowestError = inf\n",
    "    for i in range(numIt):\n",
    "        #print (ws.T)\n",
    "        for j in range(n):\n",
    "            for sign in [-1,1]:\n",
    "                wsTest = ws.copy()\n",
    "                wsTest[j] +=eps*sign\n",
    "                yTest = xMat*wsTest\n",
    "                rssE = ((yMat.A-yTest.A.T)**2).sum()\n",
    "                if rssE< lowestError:\n",
    "                    lowestError = rssE\n",
    "                    wsMax =wsTest\n",
    "                    print (lowestError)\n",
    "        ws = wsMax.copy()\n",
    "        returnMat[i,:] = ws.T\n",
    "    return returnMat"
   ]
  },
  {
   "cell_type": "code",
   "execution_count": 261,
   "metadata": {},
   "outputs": [
    {
     "name": "stdout",
     "output_type": "stream",
     "text": [
      "2.048262260127932\n",
      "1.952313432835821\n",
      "1.9052025586353942\n",
      "1.8586673773987208\n",
      "1.8127078891257997\n",
      "1.767324093816631\n",
      "1.7225159914712154\n",
      "1.678283582089552\n",
      "1.6346268656716418\n",
      "1.5915458422174842\n",
      "1.549040511727079\n",
      "1.5071108742004264\n",
      "1.4657569296375268\n",
      "1.4249786780383795\n",
      "1.3847761194029853\n",
      "1.3451492537313432\n",
      "1.3060980810234541\n",
      "1.2676226012793177\n",
      "1.2297228144989338\n",
      "1.1923987206823028\n",
      "1.1556503198294241\n",
      "1.1194776119402983\n",
      "1.0838805970149252\n",
      "1.0488592750533048\n",
      "1.014413646055437\n",
      "0.9805437100213221\n",
      "0.9472494669509595\n",
      "0.9145309168443496\n",
      "0.8823880597014925\n",
      "0.8508208955223879\n",
      "0.8198294243070361\n",
      "0.7894136460554368\n",
      "0.7595735607675904\n",
      "0.7303091684434967\n",
      "0.7016204690831553\n",
      "0.6735074626865669\n",
      "0.6459701492537311\n",
      "0.6190085287846478\n",
      "0.5926226012793172\n",
      "0.5668123667377395\n",
      "0.5415778251599144\n",
      "0.5169189765458418\n",
      "0.4928358208955219\n",
      "0.4693283582089548\n",
      "0.4463965884861404\n",
      "0.42404051172707846\n",
      "0.40226012793176935\n",
      "0.3810554371002127\n",
      "0.360426439232409\n",
      "0.3403731343283577\n",
      "0.3208955223880595\n",
      "0.3019936034115136\n",
      "0.2836673773987204\n",
      "0.2659168443496799\n",
      "0.24874200426439202\n",
      "0.23214285714285676\n",
      "0.21611940298507426\n",
      "0.20067164179104435\n",
      "0.18579957356076723\n",
      "0.17150319829424274\n",
      "0.15778251599147086\n",
      "0.14463752665245172\n",
      "0.13206823027718517\n",
      "0.12007462686567133\n",
      "0.10865671641791011\n",
      "0.09781449893390162\n",
      "0.08754797441364573\n",
      "0.07785714285714257\n",
      "0.06874200426439203\n",
      "0.06020255863539419\n",
      "0.052238805970149016\n",
      "0.044850746268656476\n",
      "0.03803837953091663\n",
      "0.03180170575692943\n",
      "0.026140724946694914\n",
      "0.02105543710021304\n",
      "0.016545842217483855\n",
      "0.012611940298507316\n",
      "0.009253731343283465\n",
      "0.006471215351812262\n",
      "0.00426439232409374\n",
      "0.002633262260127882\n",
      "0.0015778251599146797\n",
      "0.001098081023454149\n"
     ]
    },
    {
     "data": {
      "text/plain": [
       "array([[0.01],\n",
       "       [0.02],\n",
       "       [0.03],\n",
       "       [0.04],\n",
       "       [0.05],\n",
       "       [0.06],\n",
       "       [0.07],\n",
       "       [0.08],\n",
       "       [0.09],\n",
       "       [0.1 ],\n",
       "       [0.11],\n",
       "       [0.12],\n",
       "       [0.13],\n",
       "       [0.14],\n",
       "       [0.15],\n",
       "       [0.16],\n",
       "       [0.17],\n",
       "       [0.18],\n",
       "       [0.19],\n",
       "       [0.2 ],\n",
       "       [0.21],\n",
       "       [0.22],\n",
       "       [0.23],\n",
       "       [0.24],\n",
       "       [0.25],\n",
       "       [0.26],\n",
       "       [0.27],\n",
       "       [0.28],\n",
       "       [0.29],\n",
       "       [0.3 ],\n",
       "       [0.31],\n",
       "       [0.32],\n",
       "       [0.33],\n",
       "       [0.34],\n",
       "       [0.35],\n",
       "       [0.36],\n",
       "       [0.37],\n",
       "       [0.38],\n",
       "       [0.39],\n",
       "       [0.4 ],\n",
       "       [0.41],\n",
       "       [0.42],\n",
       "       [0.43],\n",
       "       [0.44],\n",
       "       [0.45],\n",
       "       [0.46],\n",
       "       [0.47],\n",
       "       [0.48],\n",
       "       [0.49],\n",
       "       [0.5 ],\n",
       "       [0.51],\n",
       "       [0.52],\n",
       "       [0.53],\n",
       "       [0.54],\n",
       "       [0.55],\n",
       "       [0.56],\n",
       "       [0.57],\n",
       "       [0.58],\n",
       "       [0.59],\n",
       "       [0.6 ],\n",
       "       [0.61],\n",
       "       [0.62],\n",
       "       [0.63],\n",
       "       [0.64],\n",
       "       [0.65],\n",
       "       [0.66],\n",
       "       [0.67],\n",
       "       [0.68],\n",
       "       [0.69],\n",
       "       [0.7 ],\n",
       "       [0.71],\n",
       "       [0.72],\n",
       "       [0.73],\n",
       "       [0.74],\n",
       "       [0.75],\n",
       "       [0.76],\n",
       "       [0.77],\n",
       "       [0.78],\n",
       "       [0.79],\n",
       "       [0.8 ],\n",
       "       [0.81],\n",
       "       [0.82],\n",
       "       [0.83],\n",
       "       [0.83],\n",
       "       [0.83],\n",
       "       [0.83],\n",
       "       [0.83],\n",
       "       [0.83],\n",
       "       [0.83],\n",
       "       [0.83],\n",
       "       [0.83],\n",
       "       [0.83],\n",
       "       [0.83],\n",
       "       [0.83],\n",
       "       [0.83],\n",
       "       [0.83],\n",
       "       [0.83],\n",
       "       [0.83],\n",
       "       [0.83],\n",
       "       [0.83]])"
      ]
     },
     "execution_count": 261,
     "metadata": {},
     "output_type": "execute_result"
    }
   ],
   "source": [
    "xMat = datMat; yMat=y\n",
    "stageWise(xMat,yMat,eps = 0.01,numIt = 100)#最后收敛"
   ]
  },
  {
   "cell_type": "code",
   "execution_count": 262,
   "metadata": {},
   "outputs": [],
   "source": [
    "def regulation(xArr,yArr):\n",
    "    xMat = mat(xArr);yMat = mat(yArr)\n",
    "    #yMean = mean(yMat,1)\n",
    "    yMat = yMat - yMean\n",
    "    xMeans = mean(xMat,0)\n",
    "    xVar = var(xMat,0)  #axis=0对列求var\n",
    "    xMat = (xMat - xMeans)/xVar #standardize\n",
    "    \n",
    "    return xMat,yMat"
   ]
  },
  {
   "cell_type": "code",
   "execution_count": 263,
   "metadata": {},
   "outputs": [
    {
     "name": "stdout",
     "output_type": "stream",
     "text": [
      "ws_stand [[0.83333333]]\n"
     ]
    }
   ],
   "source": [
    "xMat = datMat; yMat=y\n",
    "xMat1,yMat1 = regulation(datMat,y)\n",
    "ws_stand = standRegres(xMat1,yMat1) #ws与迭代后收敛的相同0.83,用迭代收敛法时要先将X标准正态分布,所以这里标准回归也要先做X标准化\n",
    "\n",
    "print (\"ws_stand\",ws_stand)\n"
   ]
  },
  {
   "cell_type": "code",
   "execution_count": 264,
   "metadata": {},
   "outputs": [
    {
     "name": "stdout",
     "output_type": "stream",
     "text": [
      "2.048262260127932\n",
      "1.952313432835821\n",
      "1.9052025586353942\n",
      "1.8586673773987208\n",
      "1.8127078891257997\n",
      "1.767324093816631\n",
      "1.7225159914712154\n",
      "1.678283582089552\n",
      "1.6346268656716418\n",
      "1.5915458422174842\n",
      "1.549040511727079\n",
      "1.5071108742004264\n",
      "1.4657569296375268\n",
      "1.4249786780383795\n",
      "1.3847761194029853\n",
      "1.3451492537313432\n",
      "1.3060980810234541\n",
      "1.2676226012793177\n",
      "1.2297228144989338\n",
      "1.1923987206823028\n",
      "1.1556503198294241\n",
      "1.1194776119402983\n",
      "1.0838805970149252\n",
      "1.0488592750533048\n",
      "1.014413646055437\n",
      "0.9805437100213221\n",
      "0.9472494669509595\n",
      "0.9145309168443496\n",
      "0.8823880597014925\n",
      "0.8508208955223879\n",
      "0.8198294243070361\n",
      "0.7894136460554368\n",
      "0.7595735607675904\n",
      "0.7303091684434967\n",
      "0.7016204690831553\n",
      "0.6735074626865669\n",
      "0.6459701492537311\n",
      "0.6190085287846478\n",
      "0.5926226012793172\n",
      "0.5668123667377395\n",
      "0.5415778251599144\n",
      "0.5169189765458418\n",
      "0.4928358208955219\n",
      "0.4693283582089548\n",
      "0.4463965884861404\n",
      "0.42404051172707846\n",
      "0.40226012793176935\n",
      "0.3810554371002127\n",
      "0.360426439232409\n",
      "0.3403731343283577\n",
      "0.3208955223880595\n",
      "0.3019936034115136\n",
      "0.2836673773987204\n",
      "0.2659168443496799\n",
      "0.24874200426439202\n",
      "0.23214285714285676\n",
      "0.21611940298507426\n",
      "0.20067164179104435\n",
      "0.18579957356076723\n",
      "0.17150319829424274\n",
      "0.15778251599147086\n",
      "0.14463752665245172\n",
      "0.13206823027718517\n",
      "0.12007462686567133\n",
      "0.10865671641791011\n",
      "0.09781449893390162\n",
      "0.08754797441364573\n",
      "0.07785714285714257\n",
      "0.06874200426439203\n",
      "0.06020255863539419\n",
      "0.052238805970149016\n",
      "0.044850746268656476\n",
      "0.03803837953091663\n",
      "0.03180170575692943\n",
      "0.026140724946694914\n",
      "0.02105543710021304\n",
      "0.016545842217483855\n",
      "0.012611940298507316\n",
      "0.009253731343283465\n",
      "0.006471215351812262\n",
      "0.00426439232409374\n",
      "0.002633262260127882\n",
      "0.0015778251599146797\n",
      "0.001098081023454149\n",
      "ws_stage [[0.01]\n",
      " [0.02]\n",
      " [0.03]\n",
      " [0.04]\n",
      " [0.05]\n",
      " [0.06]\n",
      " [0.07]\n",
      " [0.08]\n",
      " [0.09]\n",
      " [0.1 ]\n",
      " [0.11]\n",
      " [0.12]\n",
      " [0.13]\n",
      " [0.14]\n",
      " [0.15]\n",
      " [0.16]\n",
      " [0.17]\n",
      " [0.18]\n",
      " [0.19]\n",
      " [0.2 ]\n",
      " [0.21]\n",
      " [0.22]\n",
      " [0.23]\n",
      " [0.24]\n",
      " [0.25]\n",
      " [0.26]\n",
      " [0.27]\n",
      " [0.28]\n",
      " [0.29]\n",
      " [0.3 ]\n",
      " [0.31]\n",
      " [0.32]\n",
      " [0.33]\n",
      " [0.34]\n",
      " [0.35]\n",
      " [0.36]\n",
      " [0.37]\n",
      " [0.38]\n",
      " [0.39]\n",
      " [0.4 ]\n",
      " [0.41]\n",
      " [0.42]\n",
      " [0.43]\n",
      " [0.44]\n",
      " [0.45]\n",
      " [0.46]\n",
      " [0.47]\n",
      " [0.48]\n",
      " [0.49]\n",
      " [0.5 ]\n",
      " [0.51]\n",
      " [0.52]\n",
      " [0.53]\n",
      " [0.54]\n",
      " [0.55]\n",
      " [0.56]\n",
      " [0.57]\n",
      " [0.58]\n",
      " [0.59]\n",
      " [0.6 ]\n",
      " [0.61]\n",
      " [0.62]\n",
      " [0.63]\n",
      " [0.64]\n",
      " [0.65]\n",
      " [0.66]\n",
      " [0.67]\n",
      " [0.68]\n",
      " [0.69]\n",
      " [0.7 ]\n",
      " [0.71]\n",
      " [0.72]\n",
      " [0.73]\n",
      " [0.74]\n",
      " [0.75]\n",
      " [0.76]\n",
      " [0.77]\n",
      " [0.78]\n",
      " [0.79]\n",
      " [0.8 ]\n",
      " [0.81]\n",
      " [0.82]\n",
      " [0.83]\n",
      " [0.83]\n",
      " [0.83]\n",
      " [0.83]\n",
      " [0.83]\n",
      " [0.83]\n",
      " [0.83]\n",
      " [0.83]\n",
      " [0.83]\n",
      " [0.83]\n",
      " [0.83]\n",
      " [0.83]\n",
      " [0.83]\n",
      " [0.83]\n",
      " [0.83]\n",
      " [0.83]\n",
      " [0.83]\n",
      " [0.83]]\n",
      "yhat_stage [[0.   ]\n",
      " [0.996]\n",
      " [2.075]]\n",
      "0.0056410000000001554\n"
     ]
    }
   ],
   "source": [
    "xMat = datMat; yMat=y\n",
    "ws_stage = stageWise(xMat,yMat,eps = 0.01,numIt = 100)\n",
    "#print(mat(ws_stage))\n",
    "yHat_stage = xMat*mat(ws_stage)[99].T\n",
    "print (\"ws_stage\",ws_stage)\n",
    "print (\"yhat_stage\",yHat_stage)\n",
    "print (((yMat.A-yHat_stage.A.T)**2).sum())"
   ]
  },
  {
   "cell_type": "code",
   "execution_count": 267,
   "metadata": {},
   "outputs": [
    {
     "name": "stdout",
     "output_type": "stream",
     "text": [
      "[[0.79957356]]\n",
      "0.001066098081023461\n"
     ]
    }
   ],
   "source": [
    "from sklearn.linear_model import LinearRegression\n",
    "xMat = datMat; yMat=y\n",
    "reg = LinearRegression(fit_intercept=True,normalize=True).fit(xMat, (yMat).T)#用normalize后的误差平方和更小 norm=l2,范数：欧式距离\n",
    "print (reg.coef_)\n",
    "yHat_sk = mat(reg.predict(xMat))\n",
    "print (((yMat.A-yHat_sk.A.T)**2).sum()) #sklearn的结果比前向逐步线性回归略好一点,比岭回归也稍好一点，sklearn优于岭回归，优于前向逐步回归\n"
   ]
  },
  {
   "cell_type": "code",
   "execution_count": null,
   "metadata": {},
   "outputs": [],
   "source": []
  }
 ],
 "metadata": {
  "kernelspec": {
   "display_name": "Python 3",
   "language": "python",
   "name": "python3"
  },
  "language_info": {
   "codemirror_mode": {
    "name": "ipython",
    "version": 3
   },
   "file_extension": ".py",
   "mimetype": "text/x-python",
   "name": "python",
   "nbconvert_exporter": "python",
   "pygments_lexer": "ipython3",
   "version": "3.7.4"
  }
 },
 "nbformat": 4,
 "nbformat_minor": 2
}
